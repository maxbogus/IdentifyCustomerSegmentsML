{
 "cells": [
  {
   "cell_type": "markdown",
   "metadata": {},
   "source": [
    "# Project: Identify Customer Segments\n",
    "\n",
    "In this project, you will apply unsupervised learning techniques to identify segments of the population that form the core customer base for a mail-order sales company in Germany. These segments can then be used to direct marketing campaigns towards audiences that will have the highest expected rate of returns. The data that you will use has been provided by our partners at Bertelsmann Arvato Analytics, and represents a real-life data science task.\n",
    "\n",
    "This notebook will help you complete this task by providing a framework within which you will perform your analysis steps. In each step of the project, you will see some text describing the subtask that you will perform, followed by one or more code cells for you to complete your work. **Feel free to add additional code and markdown cells as you go along so that you can explore everything in precise chunks.** The code cells provided in the base template will outline only the major tasks, and will usually not be enough to cover all of the minor tasks that comprise it.\n",
    "\n",
    "It should be noted that while there will be precise guidelines on how you should handle certain tasks in the project, there will also be places where an exact specification is not provided. **There will be times in the project where you will need to make and justify your own decisions on how to treat the data.** These are places where there may not be only one way to handle the data. In real-life tasks, there may be many valid ways to approach an analysis task. One of the most important things you can do is clearly document your approach so that other scientists can understand the decisions you've made.\n",
    "\n",
    "At the end of most sections, there will be a Markdown cell labeled **Discussion**. In these cells, you will report your findings for the completed section, as well as document the decisions that you made in your approach to each subtask. **Your project will be evaluated not just on the code used to complete the tasks outlined, but also your communication about your observations and conclusions at each stage.**"
   ]
  },
  {
   "cell_type": "code",
   "execution_count": 1,
   "metadata": {},
   "outputs": [
    {
     "data": {
      "text/plain": [
       "'\\nImport note: The classroom currently uses sklearn version 0.19.\\nIf you need to use an imputer, it is available in sklearn.preprocessing.Imputer,\\ninstead of sklearn.impute as in newer versions of sklearn.\\n'"
      ]
     },
     "execution_count": 1,
     "metadata": {},
     "output_type": "execute_result"
    }
   ],
   "source": [
    "# import libraries here; add more as necessary\n",
    "import numpy as np\n",
    "import pandas as pd\n",
    "import matplotlib.pyplot as plt\n",
    "import seaborn as sns\n",
    "\n",
    "# magic word for producing visualizations in notebook\n",
    "%matplotlib inline\n",
    "\n",
    "'''\n",
    "Import note: The classroom currently uses sklearn version 0.19.\n",
    "If you need to use an imputer, it is available in sklearn.preprocessing.Imputer,\n",
    "instead of sklearn.impute as in newer versions of sklearn.\n",
    "'''"
   ]
  },
  {
   "cell_type": "markdown",
   "metadata": {},
   "source": [
    "### Step 0: Load the Data\n",
    "\n",
    "There are four files associated with this project (not including this one):\n",
    "\n",
    "- `Udacity_AZDIAS_Subset.csv`: Demographics data for the general population of Germany; 891211 persons (rows) x 85 features (columns).\n",
    "- `Udacity_CUSTOMERS_Subset.csv`: Demographics data for customers of a mail-order company; 191652 persons (rows) x 85 features (columns).\n",
    "- `Data_Dictionary.md`: Detailed information file about the features in the provided datasets.\n",
    "- `AZDIAS_Feature_Summary.csv`: Summary of feature attributes for demographics data; 85 features (rows) x 4 columns\n",
    "\n",
    "Each row of the demographics files represents a single person, but also includes information outside of individuals, including information about their household, building, and neighborhood. You will use this information to cluster the general population into groups with similar demographic properties. Then, you will see how the people in the customers dataset fit into those created clusters. The hope here is that certain clusters are over-represented in the customers data, as compared to the general population; those over-represented clusters will be assumed to be part of the core userbase. This information can then be used for further applications, such as targeting for a marketing campaign.\n",
    "\n",
    "To start off with, load in the demographics data for the general population into a pandas DataFrame, and do the same for the feature attributes summary. Note for all of the `.csv` data files in this project: they're semicolon (`;`) delimited, so you'll need an additional argument in your [`read_csv()`](https://pandas.pydata.org/pandas-docs/stable/generated/pandas.read_csv.html) call to read in the data properly. Also, considering the size of the main dataset, it may take some time for it to load completely.\n",
    "\n",
    "Once the dataset is loaded, it's recommended that you take a little bit of time just browsing the general structure of the dataset and feature summary file. You'll be getting deep into the innards of the cleaning in the first major step of the project, so gaining some general familiarity can help you get your bearings."
   ]
  },
  {
   "cell_type": "code",
   "execution_count": 2,
   "metadata": {},
   "outputs": [],
   "source": [
    "# Load in the general demographics data.\n",
    "azdias = pd.read_csv('Udacity_AZDIAS_Subset.csv', delimiter=\";\")\n",
    "\n",
    "# Load in the feature summary file.\n",
    "feat_info = pd.read_csv('AZDIAS_Feature_Summary.csv', delimiter=\";\")"
   ]
  },
  {
   "cell_type": "code",
   "execution_count": 3,
   "metadata": {},
   "outputs": [
    {
     "data": {
      "text/html": [
       "<div>\n",
       "<style scoped>\n",
       "    .dataframe tbody tr th:only-of-type {\n",
       "        vertical-align: middle;\n",
       "    }\n",
       "\n",
       "    .dataframe tbody tr th {\n",
       "        vertical-align: top;\n",
       "    }\n",
       "\n",
       "    .dataframe thead th {\n",
       "        text-align: right;\n",
       "    }\n",
       "</style>\n",
       "<table border=\"1\" class=\"dataframe\">\n",
       "  <thead>\n",
       "    <tr style=\"text-align: right;\">\n",
       "      <th></th>\n",
       "      <th>AGER_TYP</th>\n",
       "      <th>ALTERSKATEGORIE_GROB</th>\n",
       "      <th>ANREDE_KZ</th>\n",
       "      <th>CJT_GESAMTTYP</th>\n",
       "      <th>FINANZ_MINIMALIST</th>\n",
       "      <th>FINANZ_SPARER</th>\n",
       "      <th>FINANZ_VORSORGER</th>\n",
       "      <th>FINANZ_ANLEGER</th>\n",
       "      <th>FINANZ_UNAUFFAELLIGER</th>\n",
       "      <th>FINANZ_HAUSBAUER</th>\n",
       "      <th>...</th>\n",
       "      <th>PLZ8_ANTG1</th>\n",
       "      <th>PLZ8_ANTG2</th>\n",
       "      <th>PLZ8_ANTG3</th>\n",
       "      <th>PLZ8_ANTG4</th>\n",
       "      <th>PLZ8_BAUMAX</th>\n",
       "      <th>PLZ8_HHZ</th>\n",
       "      <th>PLZ8_GBZ</th>\n",
       "      <th>ARBEIT</th>\n",
       "      <th>ORTSGR_KLS9</th>\n",
       "      <th>RELAT_AB</th>\n",
       "    </tr>\n",
       "  </thead>\n",
       "  <tbody>\n",
       "    <tr>\n",
       "      <th>count</th>\n",
       "      <td>891221.000000</td>\n",
       "      <td>891221.000000</td>\n",
       "      <td>891221.000000</td>\n",
       "      <td>886367.000000</td>\n",
       "      <td>891221.000000</td>\n",
       "      <td>891221.000000</td>\n",
       "      <td>891221.000000</td>\n",
       "      <td>891221.000000</td>\n",
       "      <td>891221.000000</td>\n",
       "      <td>891221.000000</td>\n",
       "      <td>...</td>\n",
       "      <td>774706.000000</td>\n",
       "      <td>774706.000000</td>\n",
       "      <td>774706.000000</td>\n",
       "      <td>774706.000000</td>\n",
       "      <td>774706.000000</td>\n",
       "      <td>774706.000000</td>\n",
       "      <td>774706.000000</td>\n",
       "      <td>794005.000000</td>\n",
       "      <td>794005.000000</td>\n",
       "      <td>794005.00000</td>\n",
       "    </tr>\n",
       "    <tr>\n",
       "      <th>mean</th>\n",
       "      <td>-0.358435</td>\n",
       "      <td>2.777398</td>\n",
       "      <td>1.522098</td>\n",
       "      <td>3.632838</td>\n",
       "      <td>3.074528</td>\n",
       "      <td>2.821039</td>\n",
       "      <td>3.401106</td>\n",
       "      <td>3.033328</td>\n",
       "      <td>2.874167</td>\n",
       "      <td>3.075121</td>\n",
       "      <td>...</td>\n",
       "      <td>2.253330</td>\n",
       "      <td>2.801858</td>\n",
       "      <td>1.595426</td>\n",
       "      <td>0.699166</td>\n",
       "      <td>1.943913</td>\n",
       "      <td>3.612821</td>\n",
       "      <td>3.381087</td>\n",
       "      <td>3.167854</td>\n",
       "      <td>5.293002</td>\n",
       "      <td>3.07222</td>\n",
       "    </tr>\n",
       "    <tr>\n",
       "      <th>std</th>\n",
       "      <td>1.198724</td>\n",
       "      <td>1.068775</td>\n",
       "      <td>0.499512</td>\n",
       "      <td>1.595021</td>\n",
       "      <td>1.321055</td>\n",
       "      <td>1.464749</td>\n",
       "      <td>1.322134</td>\n",
       "      <td>1.529603</td>\n",
       "      <td>1.486731</td>\n",
       "      <td>1.353248</td>\n",
       "      <td>...</td>\n",
       "      <td>0.972008</td>\n",
       "      <td>0.920309</td>\n",
       "      <td>0.986736</td>\n",
       "      <td>0.727137</td>\n",
       "      <td>1.459654</td>\n",
       "      <td>0.973967</td>\n",
       "      <td>1.111598</td>\n",
       "      <td>1.002376</td>\n",
       "      <td>2.303739</td>\n",
       "      <td>1.36298</td>\n",
       "    </tr>\n",
       "    <tr>\n",
       "      <th>min</th>\n",
       "      <td>-1.000000</td>\n",
       "      <td>1.000000</td>\n",
       "      <td>1.000000</td>\n",
       "      <td>1.000000</td>\n",
       "      <td>1.000000</td>\n",
       "      <td>1.000000</td>\n",
       "      <td>1.000000</td>\n",
       "      <td>1.000000</td>\n",
       "      <td>1.000000</td>\n",
       "      <td>1.000000</td>\n",
       "      <td>...</td>\n",
       "      <td>0.000000</td>\n",
       "      <td>0.000000</td>\n",
       "      <td>0.000000</td>\n",
       "      <td>0.000000</td>\n",
       "      <td>1.000000</td>\n",
       "      <td>1.000000</td>\n",
       "      <td>1.000000</td>\n",
       "      <td>1.000000</td>\n",
       "      <td>0.000000</td>\n",
       "      <td>1.00000</td>\n",
       "    </tr>\n",
       "    <tr>\n",
       "      <th>25%</th>\n",
       "      <td>-1.000000</td>\n",
       "      <td>2.000000</td>\n",
       "      <td>1.000000</td>\n",
       "      <td>2.000000</td>\n",
       "      <td>2.000000</td>\n",
       "      <td>1.000000</td>\n",
       "      <td>3.000000</td>\n",
       "      <td>2.000000</td>\n",
       "      <td>2.000000</td>\n",
       "      <td>2.000000</td>\n",
       "      <td>...</td>\n",
       "      <td>1.000000</td>\n",
       "      <td>2.000000</td>\n",
       "      <td>1.000000</td>\n",
       "      <td>0.000000</td>\n",
       "      <td>1.000000</td>\n",
       "      <td>3.000000</td>\n",
       "      <td>3.000000</td>\n",
       "      <td>3.000000</td>\n",
       "      <td>4.000000</td>\n",
       "      <td>2.00000</td>\n",
       "    </tr>\n",
       "    <tr>\n",
       "      <th>50%</th>\n",
       "      <td>-1.000000</td>\n",
       "      <td>3.000000</td>\n",
       "      <td>2.000000</td>\n",
       "      <td>4.000000</td>\n",
       "      <td>3.000000</td>\n",
       "      <td>3.000000</td>\n",
       "      <td>3.000000</td>\n",
       "      <td>3.000000</td>\n",
       "      <td>3.000000</td>\n",
       "      <td>3.000000</td>\n",
       "      <td>...</td>\n",
       "      <td>2.000000</td>\n",
       "      <td>3.000000</td>\n",
       "      <td>2.000000</td>\n",
       "      <td>1.000000</td>\n",
       "      <td>1.000000</td>\n",
       "      <td>4.000000</td>\n",
       "      <td>3.000000</td>\n",
       "      <td>3.000000</td>\n",
       "      <td>5.000000</td>\n",
       "      <td>3.00000</td>\n",
       "    </tr>\n",
       "    <tr>\n",
       "      <th>75%</th>\n",
       "      <td>-1.000000</td>\n",
       "      <td>4.000000</td>\n",
       "      <td>2.000000</td>\n",
       "      <td>5.000000</td>\n",
       "      <td>4.000000</td>\n",
       "      <td>4.000000</td>\n",
       "      <td>5.000000</td>\n",
       "      <td>5.000000</td>\n",
       "      <td>4.000000</td>\n",
       "      <td>4.000000</td>\n",
       "      <td>...</td>\n",
       "      <td>3.000000</td>\n",
       "      <td>3.000000</td>\n",
       "      <td>2.000000</td>\n",
       "      <td>1.000000</td>\n",
       "      <td>3.000000</td>\n",
       "      <td>4.000000</td>\n",
       "      <td>4.000000</td>\n",
       "      <td>4.000000</td>\n",
       "      <td>7.000000</td>\n",
       "      <td>4.00000</td>\n",
       "    </tr>\n",
       "    <tr>\n",
       "      <th>max</th>\n",
       "      <td>3.000000</td>\n",
       "      <td>9.000000</td>\n",
       "      <td>2.000000</td>\n",
       "      <td>6.000000</td>\n",
       "      <td>5.000000</td>\n",
       "      <td>5.000000</td>\n",
       "      <td>5.000000</td>\n",
       "      <td>5.000000</td>\n",
       "      <td>5.000000</td>\n",
       "      <td>5.000000</td>\n",
       "      <td>...</td>\n",
       "      <td>4.000000</td>\n",
       "      <td>4.000000</td>\n",
       "      <td>3.000000</td>\n",
       "      <td>2.000000</td>\n",
       "      <td>5.000000</td>\n",
       "      <td>5.000000</td>\n",
       "      <td>5.000000</td>\n",
       "      <td>9.000000</td>\n",
       "      <td>9.000000</td>\n",
       "      <td>9.00000</td>\n",
       "    </tr>\n",
       "  </tbody>\n",
       "</table>\n",
       "<p>8 rows × 81 columns</p>\n",
       "</div>"
      ],
      "text/plain": [
       "            AGER_TYP  ALTERSKATEGORIE_GROB      ANREDE_KZ  CJT_GESAMTTYP  \\\n",
       "count  891221.000000         891221.000000  891221.000000  886367.000000   \n",
       "mean       -0.358435              2.777398       1.522098       3.632838   \n",
       "std         1.198724              1.068775       0.499512       1.595021   \n",
       "min        -1.000000              1.000000       1.000000       1.000000   \n",
       "25%        -1.000000              2.000000       1.000000       2.000000   \n",
       "50%        -1.000000              3.000000       2.000000       4.000000   \n",
       "75%        -1.000000              4.000000       2.000000       5.000000   \n",
       "max         3.000000              9.000000       2.000000       6.000000   \n",
       "\n",
       "       FINANZ_MINIMALIST  FINANZ_SPARER  FINANZ_VORSORGER  FINANZ_ANLEGER  \\\n",
       "count      891221.000000  891221.000000     891221.000000   891221.000000   \n",
       "mean            3.074528       2.821039          3.401106        3.033328   \n",
       "std             1.321055       1.464749          1.322134        1.529603   \n",
       "min             1.000000       1.000000          1.000000        1.000000   \n",
       "25%             2.000000       1.000000          3.000000        2.000000   \n",
       "50%             3.000000       3.000000          3.000000        3.000000   \n",
       "75%             4.000000       4.000000          5.000000        5.000000   \n",
       "max             5.000000       5.000000          5.000000        5.000000   \n",
       "\n",
       "       FINANZ_UNAUFFAELLIGER  FINANZ_HAUSBAUER      ...          PLZ8_ANTG1  \\\n",
       "count          891221.000000     891221.000000      ...       774706.000000   \n",
       "mean                2.874167          3.075121      ...            2.253330   \n",
       "std                 1.486731          1.353248      ...            0.972008   \n",
       "min                 1.000000          1.000000      ...            0.000000   \n",
       "25%                 2.000000          2.000000      ...            1.000000   \n",
       "50%                 3.000000          3.000000      ...            2.000000   \n",
       "75%                 4.000000          4.000000      ...            3.000000   \n",
       "max                 5.000000          5.000000      ...            4.000000   \n",
       "\n",
       "          PLZ8_ANTG2     PLZ8_ANTG3     PLZ8_ANTG4    PLZ8_BAUMAX  \\\n",
       "count  774706.000000  774706.000000  774706.000000  774706.000000   \n",
       "mean        2.801858       1.595426       0.699166       1.943913   \n",
       "std         0.920309       0.986736       0.727137       1.459654   \n",
       "min         0.000000       0.000000       0.000000       1.000000   \n",
       "25%         2.000000       1.000000       0.000000       1.000000   \n",
       "50%         3.000000       2.000000       1.000000       1.000000   \n",
       "75%         3.000000       2.000000       1.000000       3.000000   \n",
       "max         4.000000       3.000000       2.000000       5.000000   \n",
       "\n",
       "            PLZ8_HHZ       PLZ8_GBZ         ARBEIT    ORTSGR_KLS9  \\\n",
       "count  774706.000000  774706.000000  794005.000000  794005.000000   \n",
       "mean        3.612821       3.381087       3.167854       5.293002   \n",
       "std         0.973967       1.111598       1.002376       2.303739   \n",
       "min         1.000000       1.000000       1.000000       0.000000   \n",
       "25%         3.000000       3.000000       3.000000       4.000000   \n",
       "50%         4.000000       3.000000       3.000000       5.000000   \n",
       "75%         4.000000       4.000000       4.000000       7.000000   \n",
       "max         5.000000       5.000000       9.000000       9.000000   \n",
       "\n",
       "           RELAT_AB  \n",
       "count  794005.00000  \n",
       "mean        3.07222  \n",
       "std         1.36298  \n",
       "min         1.00000  \n",
       "25%         2.00000  \n",
       "50%         3.00000  \n",
       "75%         4.00000  \n",
       "max         9.00000  \n",
       "\n",
       "[8 rows x 81 columns]"
      ]
     },
     "execution_count": 3,
     "metadata": {},
     "output_type": "execute_result"
    }
   ],
   "source": [
    "# Check the structure of the data after it's loaded (e.g. print the number of\n",
    "# rows and columns, print the first few rows).\n",
    "azdias.describe()"
   ]
  },
  {
   "cell_type": "markdown",
   "metadata": {},
   "source": [
    "> **Tip**: Add additional cells to keep everything in reasonably-sized chunks! Keyboard shortcut `esc --> a` (press escape to enter command mode, then press the 'A' key) adds a new cell before the active cell, and `esc --> b` adds a new cell after the active cell. If you need to convert an active cell to a markdown cell, use `esc --> m` and to convert to a code cell, use `esc --> y`. \n",
    "\n",
    "## Step 1: Preprocessing\n",
    "\n",
    "### Step 1.1: Assess Missing Data\n",
    "\n",
    "The feature summary file contains a summary of properties for each demographics data column. You will use this file to help you make cleaning decisions during this stage of the project. First of all, you should assess the demographics data in terms of missing data. Pay attention to the following points as you perform your analysis, and take notes on what you observe. Make sure that you fill in the **Discussion** cell with your findings and decisions at the end of each step that has one!\n",
    "\n",
    "#### Step 1.1.1: Convert Missing Value Codes to NaNs\n",
    "The fourth column of the feature attributes summary (loaded in above as `feat_info`) documents the codes from the data dictionary that indicate missing or unknown data. While the file encodes this as a list (e.g. `[-1,0]`), this will get read in as a string object. You'll need to do a little bit of parsing to make use of it to identify and clean the data. Convert data that matches a 'missing' or 'unknown' value code into a numpy NaN value. You might want to see how much data takes on a 'missing' or 'unknown' code, and how much data is naturally missing, as a point of interest.\n",
    "\n",
    "**As one more reminder, you are encouraged to add additional cells to break up your analysis into manageable chunks.**"
   ]
  },
  {
   "cell_type": "code",
   "execution_count": 4,
   "metadata": {},
   "outputs": [],
   "source": [
    "# Identify missing or unknown data values and convert them to NaNs.\n",
    "for index, row in feat_info.iterrows():\n",
    "    column = row['attribute']\n",
    "    mia = row['missing_or_unknown'][1:-1].split(',')\n",
    "    if len(mia) > 0:\n",
    "        for value in mia:\n",
    "            if value != '':\n",
    "                if value == '-1':\n",
    "                    value = -1\n",
    "                if (value != 'XX' and value != 'X'):\n",
    "                    value = float(value)\n",
    "                azdias[column] = azdias[column].replace(to_replace=value, value=np.NaN)"
   ]
  },
  {
   "cell_type": "code",
   "execution_count": 5,
   "metadata": {},
   "outputs": [
    {
     "data": {
      "text/html": [
       "<div>\n",
       "<style scoped>\n",
       "    .dataframe tbody tr th:only-of-type {\n",
       "        vertical-align: middle;\n",
       "    }\n",
       "\n",
       "    .dataframe tbody tr th {\n",
       "        vertical-align: top;\n",
       "    }\n",
       "\n",
       "    .dataframe thead th {\n",
       "        text-align: right;\n",
       "    }\n",
       "</style>\n",
       "<table border=\"1\" class=\"dataframe\">\n",
       "  <thead>\n",
       "    <tr style=\"text-align: right;\">\n",
       "      <th></th>\n",
       "      <th>AGER_TYP</th>\n",
       "      <th>ALTERSKATEGORIE_GROB</th>\n",
       "      <th>ANREDE_KZ</th>\n",
       "      <th>CJT_GESAMTTYP</th>\n",
       "      <th>FINANZ_MINIMALIST</th>\n",
       "      <th>FINANZ_SPARER</th>\n",
       "      <th>FINANZ_VORSORGER</th>\n",
       "      <th>FINANZ_ANLEGER</th>\n",
       "      <th>FINANZ_UNAUFFAELLIGER</th>\n",
       "      <th>FINANZ_HAUSBAUER</th>\n",
       "      <th>...</th>\n",
       "      <th>PLZ8_ANTG1</th>\n",
       "      <th>PLZ8_ANTG2</th>\n",
       "      <th>PLZ8_ANTG3</th>\n",
       "      <th>PLZ8_ANTG4</th>\n",
       "      <th>PLZ8_BAUMAX</th>\n",
       "      <th>PLZ8_HHZ</th>\n",
       "      <th>PLZ8_GBZ</th>\n",
       "      <th>ARBEIT</th>\n",
       "      <th>ORTSGR_KLS9</th>\n",
       "      <th>RELAT_AB</th>\n",
       "    </tr>\n",
       "  </thead>\n",
       "  <tbody>\n",
       "    <tr>\n",
       "      <th>0</th>\n",
       "      <td>NaN</td>\n",
       "      <td>2.0</td>\n",
       "      <td>1</td>\n",
       "      <td>2.0</td>\n",
       "      <td>3</td>\n",
       "      <td>4</td>\n",
       "      <td>3</td>\n",
       "      <td>5</td>\n",
       "      <td>5</td>\n",
       "      <td>3</td>\n",
       "      <td>...</td>\n",
       "      <td>NaN</td>\n",
       "      <td>NaN</td>\n",
       "      <td>NaN</td>\n",
       "      <td>NaN</td>\n",
       "      <td>NaN</td>\n",
       "      <td>NaN</td>\n",
       "      <td>NaN</td>\n",
       "      <td>NaN</td>\n",
       "      <td>NaN</td>\n",
       "      <td>NaN</td>\n",
       "    </tr>\n",
       "    <tr>\n",
       "      <th>1</th>\n",
       "      <td>NaN</td>\n",
       "      <td>1.0</td>\n",
       "      <td>2</td>\n",
       "      <td>5.0</td>\n",
       "      <td>1</td>\n",
       "      <td>5</td>\n",
       "      <td>2</td>\n",
       "      <td>5</td>\n",
       "      <td>4</td>\n",
       "      <td>5</td>\n",
       "      <td>...</td>\n",
       "      <td>2.0</td>\n",
       "      <td>3.0</td>\n",
       "      <td>2.0</td>\n",
       "      <td>1.0</td>\n",
       "      <td>1.0</td>\n",
       "      <td>5.0</td>\n",
       "      <td>4.0</td>\n",
       "      <td>3.0</td>\n",
       "      <td>5.0</td>\n",
       "      <td>4.0</td>\n",
       "    </tr>\n",
       "    <tr>\n",
       "      <th>2</th>\n",
       "      <td>NaN</td>\n",
       "      <td>3.0</td>\n",
       "      <td>2</td>\n",
       "      <td>3.0</td>\n",
       "      <td>1</td>\n",
       "      <td>4</td>\n",
       "      <td>1</td>\n",
       "      <td>2</td>\n",
       "      <td>3</td>\n",
       "      <td>5</td>\n",
       "      <td>...</td>\n",
       "      <td>3.0</td>\n",
       "      <td>3.0</td>\n",
       "      <td>1.0</td>\n",
       "      <td>0.0</td>\n",
       "      <td>1.0</td>\n",
       "      <td>4.0</td>\n",
       "      <td>4.0</td>\n",
       "      <td>3.0</td>\n",
       "      <td>5.0</td>\n",
       "      <td>2.0</td>\n",
       "    </tr>\n",
       "    <tr>\n",
       "      <th>3</th>\n",
       "      <td>2.0</td>\n",
       "      <td>4.0</td>\n",
       "      <td>2</td>\n",
       "      <td>2.0</td>\n",
       "      <td>4</td>\n",
       "      <td>2</td>\n",
       "      <td>5</td>\n",
       "      <td>2</td>\n",
       "      <td>1</td>\n",
       "      <td>2</td>\n",
       "      <td>...</td>\n",
       "      <td>2.0</td>\n",
       "      <td>2.0</td>\n",
       "      <td>2.0</td>\n",
       "      <td>0.0</td>\n",
       "      <td>1.0</td>\n",
       "      <td>3.0</td>\n",
       "      <td>4.0</td>\n",
       "      <td>2.0</td>\n",
       "      <td>3.0</td>\n",
       "      <td>3.0</td>\n",
       "    </tr>\n",
       "    <tr>\n",
       "      <th>4</th>\n",
       "      <td>NaN</td>\n",
       "      <td>3.0</td>\n",
       "      <td>1</td>\n",
       "      <td>5.0</td>\n",
       "      <td>4</td>\n",
       "      <td>3</td>\n",
       "      <td>4</td>\n",
       "      <td>1</td>\n",
       "      <td>3</td>\n",
       "      <td>2</td>\n",
       "      <td>...</td>\n",
       "      <td>2.0</td>\n",
       "      <td>4.0</td>\n",
       "      <td>2.0</td>\n",
       "      <td>1.0</td>\n",
       "      <td>2.0</td>\n",
       "      <td>3.0</td>\n",
       "      <td>3.0</td>\n",
       "      <td>4.0</td>\n",
       "      <td>6.0</td>\n",
       "      <td>5.0</td>\n",
       "    </tr>\n",
       "  </tbody>\n",
       "</table>\n",
       "<p>5 rows × 85 columns</p>\n",
       "</div>"
      ],
      "text/plain": [
       "   AGER_TYP  ALTERSKATEGORIE_GROB  ANREDE_KZ  CJT_GESAMTTYP  \\\n",
       "0       NaN                   2.0          1            2.0   \n",
       "1       NaN                   1.0          2            5.0   \n",
       "2       NaN                   3.0          2            3.0   \n",
       "3       2.0                   4.0          2            2.0   \n",
       "4       NaN                   3.0          1            5.0   \n",
       "\n",
       "   FINANZ_MINIMALIST  FINANZ_SPARER  FINANZ_VORSORGER  FINANZ_ANLEGER  \\\n",
       "0                  3              4                 3               5   \n",
       "1                  1              5                 2               5   \n",
       "2                  1              4                 1               2   \n",
       "3                  4              2                 5               2   \n",
       "4                  4              3                 4               1   \n",
       "\n",
       "   FINANZ_UNAUFFAELLIGER  FINANZ_HAUSBAUER    ...     PLZ8_ANTG1  PLZ8_ANTG2  \\\n",
       "0                      5                 3    ...            NaN         NaN   \n",
       "1                      4                 5    ...            2.0         3.0   \n",
       "2                      3                 5    ...            3.0         3.0   \n",
       "3                      1                 2    ...            2.0         2.0   \n",
       "4                      3                 2    ...            2.0         4.0   \n",
       "\n",
       "   PLZ8_ANTG3  PLZ8_ANTG4  PLZ8_BAUMAX  PLZ8_HHZ  PLZ8_GBZ  ARBEIT  \\\n",
       "0         NaN         NaN          NaN       NaN       NaN     NaN   \n",
       "1         2.0         1.0          1.0       5.0       4.0     3.0   \n",
       "2         1.0         0.0          1.0       4.0       4.0     3.0   \n",
       "3         2.0         0.0          1.0       3.0       4.0     2.0   \n",
       "4         2.0         1.0          2.0       3.0       3.0     4.0   \n",
       "\n",
       "   ORTSGR_KLS9  RELAT_AB  \n",
       "0          NaN       NaN  \n",
       "1          5.0       4.0  \n",
       "2          5.0       2.0  \n",
       "3          3.0       3.0  \n",
       "4          6.0       5.0  \n",
       "\n",
       "[5 rows x 85 columns]"
      ]
     },
     "execution_count": 5,
     "metadata": {},
     "output_type": "execute_result"
    }
   ],
   "source": [
    "azdias.head()"
   ]
  },
  {
   "cell_type": "markdown",
   "metadata": {},
   "source": [
    "#### Step 1.1.2: Assess Missing Data in Each Column\n",
    "\n",
    "How much missing data is present in each column? There are a few columns that are outliers in terms of the proportion of values that are missing. You will want to use matplotlib's [`hist()`](https://matplotlib.org/api/_as_gen/matplotlib.pyplot.hist.html) function to visualize the distribution of missing value counts to find these columns. Identify and document these columns. While some of these columns might have justifications for keeping or re-encoding the data, for this project you should just remove them from the dataframe. (Feel free to make remarks about these outlier columns in the discussion, however!)\n",
    "\n",
    "For the remaining features, are there any patterns in which columns have, or share, missing data?"
   ]
  },
  {
   "cell_type": "code",
   "execution_count": 6,
   "metadata": {},
   "outputs": [
    {
     "data": {
      "image/png": "[encoded data removed]",
      "text/plain": [
       "<matplotlib.figure.Figure at 0x7f45a4f86f98>"
      ]
     },
     "metadata": {
      "needs_background": "light"
     },
     "output_type": "display_data"
    }
   ],
   "source": [
    "# Perform an assessment of how much missing data there is in each column of the\n",
    "# dataset.\n",
    "import matplotlib.pyplot as plt\n",
    "\n",
    "history=[]\n",
    "for index, row in feat_info.iterrows():\n",
    "    column = row['attribute']\n",
    "    history.append(len(azdias[column]) - azdias[column].count())\n",
    "\n",
    "plt.hist(history, ec='black')\n",
    "plt.show()\n",
    "\n"
   ]
  },
  {
   "cell_type": "code",
   "execution_count": null,
   "metadata": {},
   "outputs": [],
   "source": []
  },
  {
   "cell_type": "code",
   "execution_count": 7,
   "metadata": {},
   "outputs": [
    {
     "name": "stdout",
     "output_type": "stream",
     "text": [
      "TITEL_KZ 889061 Percentage of missing values in column: 99.76%\n",
      "AGER_TYP 685843 Percentage of missing values in column: 76.96%\n",
      "KK_KUNDENTYP 584612 Percentage of missing values in column: 65.60%\n",
      "KBA05_BAUMAX 476524 Percentage of missing values in column: 53.47%\n",
      "GEBURTSJAHR 392318 Percentage of missing values in column: 44.02%\n",
      "ALTER_HH 310267 Percentage of missing values in column: 34.81%\n",
      "KKK 158064 Percentage of missing values in column: 17.74%\n",
      "REGIOTYP 158064 Percentage of missing values in column: 17.74%\n",
      "W_KEIT_KIND_HH 147988 Percentage of missing values in column: 16.61%\n",
      "KBA05_ANTG1 133324 Percentage of missing values in column: 14.96%\n",
      "KBA05_ANTG2 133324 Percentage of missing values in column: 14.96%\n",
      "KBA05_ANTG3 133324 Percentage of missing values in column: 14.96%\n",
      "KBA05_ANTG4 133324 Percentage of missing values in column: 14.96%\n",
      "KBA05_GBZ 133324 Percentage of missing values in column: 14.96%\n",
      "MOBI_REGIO 133324 Percentage of missing values in column: 14.96%\n",
      "PLZ8_ANTG1 116515 Percentage of missing values in column: 13.07%\n",
      "PLZ8_ANTG2 116515 Percentage of missing values in column: 13.07%\n",
      "PLZ8_ANTG3 116515 Percentage of missing values in column: 13.07%\n",
      "PLZ8_ANTG4 116515 Percentage of missing values in column: 13.07%\n",
      "PLZ8_BAUMAX 116515 Percentage of missing values in column: 13.07%\n",
      "PLZ8_HHZ 116515 Percentage of missing values in column: 13.07%\n",
      "PLZ8_GBZ 116515 Percentage of missing values in column: 13.07%\n",
      "HEALTH_TYP 111196 Percentage of missing values in column: 12.48%\n",
      "SHOPPER_TYP 111196 Percentage of missing values in column: 12.48%\n",
      "VERS_TYP 111196 Percentage of missing values in column: 12.48%\n",
      "NATIONALITAET_KZ 108315 Percentage of missing values in column: 12.15%\n",
      "PRAEGENDE_JUGENDJAHRE 108164 Percentage of missing values in column: 12.14%\n",
      "KBA13_ANZAHL_PKW 105800 Percentage of missing values in column: 11.87%\n",
      "ANZ_HAUSHALTE_AKTIV 99611 Percentage of missing values in column: 11.18%\n",
      "CAMEO_DEUG_2015 99352 Percentage of missing values in column: 11.15%\n",
      "CAMEO_DEU_2015 99352 Percentage of missing values in column: 11.15%\n",
      "CAMEO_INTL_2015 99352 Percentage of missing values in column: 11.15%\n",
      "LP_LEBENSPHASE_FEIN 97632 Percentage of missing values in column: 10.95%\n",
      "ARBEIT 97375 Percentage of missing values in column: 10.93%\n",
      "RELAT_AB 97375 Percentage of missing values in column: 10.93%\n",
      "ORTSGR_KLS9 97274 Percentage of missing values in column: 10.91%\n",
      "ANZ_HH_TITEL 97008 Percentage of missing values in column: 10.88%\n",
      "LP_LEBENSPHASE_GROB 94572 Percentage of missing values in column: 10.61%\n",
      "BALLRAUM 93740 Percentage of missing values in column: 10.52%\n",
      "EWDICHTE 93740 Percentage of missing values in column: 10.52%\n",
      "INNENSTADT 93740 Percentage of missing values in column: 10.52%\n",
      "GEBAEUDETYP_RASTER 93155 Percentage of missing values in column: 10.45%\n",
      "GEBAEUDETYP 93148 Percentage of missing values in column: 10.45%\n",
      "MIN_GEBAEUDEJAHR 93148 Percentage of missing values in column: 10.45%\n",
      "OST_WEST_KZ 93148 Percentage of missing values in column: 10.45%\n",
      "WOHNLAGE 93148 Percentage of missing values in column: 10.45%\n",
      "LP_FAMILIE_FEIN 77792 Percentage of missing values in column: 8.73%\n",
      "LP_FAMILIE_GROB 77792 Percentage of missing values in column: 8.73%\n",
      "KONSUMNAEHE 73969 Percentage of missing values in column: 8.30%\n",
      "SOHO_KZ 73499 Percentage of missing values in column: 8.25%\n",
      "ANZ_PERSONEN 73499 Percentage of missing values in column: 8.25%\n",
      "ANZ_TITEL 73499 Percentage of missing values in column: 8.25%\n",
      "WOHNDAUER_2008 73499 Percentage of missing values in column: 8.25%\n",
      "HH_EINKOMMEN_SCORE 18348 Percentage of missing values in column: 2.06%\n",
      "CJT_GESAMTTYP 4854 Percentage of missing values in column: 0.54%\n",
      "GFK_URLAUBERTYP 4854 Percentage of missing values in column: 0.54%\n",
      "LP_STATUS_FEIN 4854 Percentage of missing values in column: 0.54%\n",
      "LP_STATUS_GROB 4854 Percentage of missing values in column: 0.54%\n",
      "RETOURTYP_BK_S 4854 Percentage of missing values in column: 0.54%\n",
      "ONLINE_AFFINITAET 4854 Percentage of missing values in column: 0.54%\n",
      "ALTERSKATEGORIE_GROB 2881 Percentage of missing values in column: 0.32%\n",
      "ANREDE_KZ 0 Percentage of missing values in column: 0.00%\n",
      "FINANZ_MINIMALIST 0 Percentage of missing values in column: 0.00%\n",
      "FINANZ_SPARER 0 Percentage of missing values in column: 0.00%\n",
      "FINANZ_VORSORGER 0 Percentage of missing values in column: 0.00%\n",
      "FINANZ_ANLEGER 0 Percentage of missing values in column: 0.00%\n",
      "FINANZ_UNAUFFAELLIGER 0 Percentage of missing values in column: 0.00%\n",
      "FINANZ_HAUSBAUER 0 Percentage of missing values in column: 0.00%\n",
      "FINANZTYP 0 Percentage of missing values in column: 0.00%\n",
      "GREEN_AVANTGARDE 0 Percentage of missing values in column: 0.00%\n",
      "SEMIO_SOZ 0 Percentage of missing values in column: 0.00%\n",
      "SEMIO_FAM 0 Percentage of missing values in column: 0.00%\n",
      "SEMIO_REL 0 Percentage of missing values in column: 0.00%\n",
      "SEMIO_MAT 0 Percentage of missing values in column: 0.00%\n",
      "SEMIO_VERT 0 Percentage of missing values in column: 0.00%\n",
      "SEMIO_LUST 0 Percentage of missing values in column: 0.00%\n",
      "SEMIO_ERL 0 Percentage of missing values in column: 0.00%\n",
      "SEMIO_KULT 0 Percentage of missing values in column: 0.00%\n",
      "SEMIO_RAT 0 Percentage of missing values in column: 0.00%\n",
      "SEMIO_KRIT 0 Percentage of missing values in column: 0.00%\n",
      "SEMIO_DOM 0 Percentage of missing values in column: 0.00%\n",
      "SEMIO_KAEM 0 Percentage of missing values in column: 0.00%\n",
      "SEMIO_PFLICHT 0 Percentage of missing values in column: 0.00%\n",
      "SEMIO_TRADV 0 Percentage of missing values in column: 0.00%\n",
      "ZABEOTYP 0 Percentage of missing values in column: 0.00%\n"
     ]
    }
   ],
   "source": [
    "# Investigate patterns in the amount of missing data in each column.\n",
    "result = {}\n",
    "limit = len(azdias)\n",
    "for index, row in feat_info.iterrows():\n",
    "    column = row['attribute']\n",
    "    result[column] = (len(azdias[column]) - azdias[column].count())\n",
    "\n",
    "for w in sorted(result, key=result.get, reverse=True):\n",
    "    print(w, result[w], 'Percentage of missing values in column: {:.2f}%'.format(result[w]/(limit/100)))\n",
    "\n"
   ]
  },
  {
   "cell_type": "code",
   "execution_count": 8,
   "metadata": {},
   "outputs": [],
   "source": [
    "# Remove the outlier columns from the dataset. (You'll perform other data\n",
    "# engineering tasks such as re-encoding and imputation later.)\n",
    "\n",
    "del azdias['TITEL_KZ']\n",
    "del azdias['AGER_TYP']\n",
    "del azdias['KK_KUNDENTYP']\n",
    "del azdias['KBA05_BAUMAX']\n",
    "del azdias['ALTER_HH']\n",
    "del azdias['GEBURTSJAHR']"
   ]
  },
  {
   "cell_type": "code",
   "execution_count": 9,
   "metadata": {},
   "outputs": [
    {
     "data": {
      "text/html": [
       "<div>\n",
       "<style scoped>\n",
       "    .dataframe tbody tr th:only-of-type {\n",
       "        vertical-align: middle;\n",
       "    }\n",
       "\n",
       "    .dataframe tbody tr th {\n",
       "        vertical-align: top;\n",
       "    }\n",
       "\n",
       "    .dataframe thead th {\n",
       "        text-align: right;\n",
       "    }\n",
       "</style>\n",
       "<table border=\"1\" class=\"dataframe\">\n",
       "  <thead>\n",
       "    <tr style=\"text-align: right;\">\n",
       "      <th></th>\n",
       "      <th>ALTERSKATEGORIE_GROB</th>\n",
       "      <th>ANREDE_KZ</th>\n",
       "      <th>CJT_GESAMTTYP</th>\n",
       "      <th>FINANZ_MINIMALIST</th>\n",
       "      <th>FINANZ_SPARER</th>\n",
       "      <th>FINANZ_VORSORGER</th>\n",
       "      <th>FINANZ_ANLEGER</th>\n",
       "      <th>FINANZ_UNAUFFAELLIGER</th>\n",
       "      <th>FINANZ_HAUSBAUER</th>\n",
       "      <th>FINANZTYP</th>\n",
       "      <th>...</th>\n",
       "      <th>PLZ8_ANTG1</th>\n",
       "      <th>PLZ8_ANTG2</th>\n",
       "      <th>PLZ8_ANTG3</th>\n",
       "      <th>PLZ8_ANTG4</th>\n",
       "      <th>PLZ8_BAUMAX</th>\n",
       "      <th>PLZ8_HHZ</th>\n",
       "      <th>PLZ8_GBZ</th>\n",
       "      <th>ARBEIT</th>\n",
       "      <th>ORTSGR_KLS9</th>\n",
       "      <th>RELAT_AB</th>\n",
       "    </tr>\n",
       "  </thead>\n",
       "  <tbody>\n",
       "    <tr>\n",
       "      <th>0</th>\n",
       "      <td>2.0</td>\n",
       "      <td>1</td>\n",
       "      <td>2.0</td>\n",
       "      <td>3</td>\n",
       "      <td>4</td>\n",
       "      <td>3</td>\n",
       "      <td>5</td>\n",
       "      <td>5</td>\n",
       "      <td>3</td>\n",
       "      <td>4</td>\n",
       "      <td>...</td>\n",
       "      <td>NaN</td>\n",
       "      <td>NaN</td>\n",
       "      <td>NaN</td>\n",
       "      <td>NaN</td>\n",
       "      <td>NaN</td>\n",
       "      <td>NaN</td>\n",
       "      <td>NaN</td>\n",
       "      <td>NaN</td>\n",
       "      <td>NaN</td>\n",
       "      <td>NaN</td>\n",
       "    </tr>\n",
       "    <tr>\n",
       "      <th>1</th>\n",
       "      <td>1.0</td>\n",
       "      <td>2</td>\n",
       "      <td>5.0</td>\n",
       "      <td>1</td>\n",
       "      <td>5</td>\n",
       "      <td>2</td>\n",
       "      <td>5</td>\n",
       "      <td>4</td>\n",
       "      <td>5</td>\n",
       "      <td>1</td>\n",
       "      <td>...</td>\n",
       "      <td>2.0</td>\n",
       "      <td>3.0</td>\n",
       "      <td>2.0</td>\n",
       "      <td>1.0</td>\n",
       "      <td>1.0</td>\n",
       "      <td>5.0</td>\n",
       "      <td>4.0</td>\n",
       "      <td>3.0</td>\n",
       "      <td>5.0</td>\n",
       "      <td>4.0</td>\n",
       "    </tr>\n",
       "    <tr>\n",
       "      <th>2</th>\n",
       "      <td>3.0</td>\n",
       "      <td>2</td>\n",
       "      <td>3.0</td>\n",
       "      <td>1</td>\n",
       "      <td>4</td>\n",
       "      <td>1</td>\n",
       "      <td>2</td>\n",
       "      <td>3</td>\n",
       "      <td>5</td>\n",
       "      <td>1</td>\n",
       "      <td>...</td>\n",
       "      <td>3.0</td>\n",
       "      <td>3.0</td>\n",
       "      <td>1.0</td>\n",
       "      <td>0.0</td>\n",
       "      <td>1.0</td>\n",
       "      <td>4.0</td>\n",
       "      <td>4.0</td>\n",
       "      <td>3.0</td>\n",
       "      <td>5.0</td>\n",
       "      <td>2.0</td>\n",
       "    </tr>\n",
       "    <tr>\n",
       "      <th>3</th>\n",
       "      <td>4.0</td>\n",
       "      <td>2</td>\n",
       "      <td>2.0</td>\n",
       "      <td>4</td>\n",
       "      <td>2</td>\n",
       "      <td>5</td>\n",
       "      <td>2</td>\n",
       "      <td>1</td>\n",
       "      <td>2</td>\n",
       "      <td>6</td>\n",
       "      <td>...</td>\n",
       "      <td>2.0</td>\n",
       "      <td>2.0</td>\n",
       "      <td>2.0</td>\n",
       "      <td>0.0</td>\n",
       "      <td>1.0</td>\n",
       "      <td>3.0</td>\n",
       "      <td>4.0</td>\n",
       "      <td>2.0</td>\n",
       "      <td>3.0</td>\n",
       "      <td>3.0</td>\n",
       "    </tr>\n",
       "    <tr>\n",
       "      <th>4</th>\n",
       "      <td>3.0</td>\n",
       "      <td>1</td>\n",
       "      <td>5.0</td>\n",
       "      <td>4</td>\n",
       "      <td>3</td>\n",
       "      <td>4</td>\n",
       "      <td>1</td>\n",
       "      <td>3</td>\n",
       "      <td>2</td>\n",
       "      <td>5</td>\n",
       "      <td>...</td>\n",
       "      <td>2.0</td>\n",
       "      <td>4.0</td>\n",
       "      <td>2.0</td>\n",
       "      <td>1.0</td>\n",
       "      <td>2.0</td>\n",
       "      <td>3.0</td>\n",
       "      <td>3.0</td>\n",
       "      <td>4.0</td>\n",
       "      <td>6.0</td>\n",
       "      <td>5.0</td>\n",
       "    </tr>\n",
       "  </tbody>\n",
       "</table>\n",
       "<p>5 rows × 79 columns</p>\n",
       "</div>"
      ],
      "text/plain": [
       "   ALTERSKATEGORIE_GROB  ANREDE_KZ  CJT_GESAMTTYP  FINANZ_MINIMALIST  \\\n",
       "0                   2.0          1            2.0                  3   \n",
       "1                   1.0          2            5.0                  1   \n",
       "2                   3.0          2            3.0                  1   \n",
       "3                   4.0          2            2.0                  4   \n",
       "4                   3.0          1            5.0                  4   \n",
       "\n",
       "   FINANZ_SPARER  FINANZ_VORSORGER  FINANZ_ANLEGER  FINANZ_UNAUFFAELLIGER  \\\n",
       "0              4                 3               5                      5   \n",
       "1              5                 2               5                      4   \n",
       "2              4                 1               2                      3   \n",
       "3              2                 5               2                      1   \n",
       "4              3                 4               1                      3   \n",
       "\n",
       "   FINANZ_HAUSBAUER  FINANZTYP    ...     PLZ8_ANTG1  PLZ8_ANTG2  PLZ8_ANTG3  \\\n",
       "0                 3          4    ...            NaN         NaN         NaN   \n",
       "1                 5          1    ...            2.0         3.0         2.0   \n",
       "2                 5          1    ...            3.0         3.0         1.0   \n",
       "3                 2          6    ...            2.0         2.0         2.0   \n",
       "4                 2          5    ...            2.0         4.0         2.0   \n",
       "\n",
       "   PLZ8_ANTG4  PLZ8_BAUMAX  PLZ8_HHZ  PLZ8_GBZ  ARBEIT  ORTSGR_KLS9  RELAT_AB  \n",
       "0         NaN          NaN       NaN       NaN     NaN          NaN       NaN  \n",
       "1         1.0          1.0       5.0       4.0     3.0          5.0       4.0  \n",
       "2         0.0          1.0       4.0       4.0     3.0          5.0       2.0  \n",
       "3         0.0          1.0       3.0       4.0     2.0          3.0       3.0  \n",
       "4         1.0          2.0       3.0       3.0     4.0          6.0       5.0  \n",
       "\n",
       "[5 rows x 79 columns]"
      ]
     },
     "execution_count": 9,
     "metadata": {},
     "output_type": "execute_result"
    }
   ],
   "source": [
    "azdias.head()"
   ]
  },
  {
   "cell_type": "markdown",
   "metadata": {},
   "source": [
    "#### Discussion 1.1.2: Assess Missing Data in Each Column\n",
    "##### Are there any patterns in missing values? \n",
    "TITEL_KZ - Academic title flag\n",
    "AGER_TYP - Best-ager typology\n",
    "Both columns were related to personal data. And based on the Data Dictionary, this data was rare.\n",
    "\n",
    "##### Which columns were removed from the dataset?\n",
    "TITEL_KZ 889061 Percentage of missing values in column: 99.76%\n",
    "AGER_TYP 685843 Percentage of missing values in column: 76.96%\n",
    "KK_KUNDENTYP 584612 Percentage of missing values in column: 65.60%\n",
    "KBA05_BAUMAX 476524 Percentage of missing values in column: 53.47%\n",
    "GEBURTSJAHR 392318 Percentage of missing values in column: 44.02%\n",
    "ALTER_HH 310267 Percentage of missing values in column: 34.81%\n",
    "I decided to remove columns with more than 20% nan values.\n"
   ]
  },
  {
   "cell_type": "markdown",
   "metadata": {},
   "source": [
    "#### Step 1.1.3: Assess Missing Data in Each Row\n",
    "\n",
    "Now, you'll perform a similar assessment for the rows of the dataset. How much data is missing in each row? As with the columns, you should see some groups of points that have a very different numbers of missing values. Divide the data into two subsets: one for data points that are above some threshold for missing values, and a second subset for points below that threshold.\n",
    "\n",
    "In order to know what to do with the outlier rows, we should see if the distribution of data values on columns that are not missing data (or are missing very little data) are similar or different between the two groups. Select at least five of these columns and compare the distribution of values.\n",
    "- You can use seaborn's [`countplot()`](https://seaborn.pydata.org/generated/seaborn.countplot.html) function to create a bar chart of code frequencies and matplotlib's [`subplot()`](https://matplotlib.org/api/_as_gen/matplotlib.pyplot.subplot.html) function to put bar charts for the two subplots side by side.\n",
    "- To reduce repeated code, you might want to write a function that can perform this comparison, taking as one of its arguments a column to be compared.\n",
    "\n",
    "Depending on what you observe in your comparison, this will have implications on how you approach your conclusions later in the analysis. If the distributions of non-missing features look similar between the data with many missing values and the data with few or no missing values, then we could argue that simply dropping those points from the analysis won't present a major issue. On the other hand, if the data with many missing values looks very different from the data with few or no missing values, then we should make a note on those data as special. We'll revisit these data later on. **Either way, you should continue your analysis for now using just the subset of the data with few or no missing values.**"
   ]
  },
  {
   "cell_type": "code",
   "execution_count": 10,
   "metadata": {},
   "outputs": [
    {
     "data": {
      "image/png": "[encoded data removed]",
      "text/plain": [
       "<matplotlib.figure.Figure at 0x7f4598b9d390>"
      ]
     },
     "metadata": {
      "needs_background": "light"
     },
     "output_type": "display_data"
    }
   ],
   "source": [
    "# How much data is missing in each row of the dataset?\n",
    "missing_row_values = azdias.isnull().sum(axis=1)\n",
    "\n",
    "missing_values = []\n",
    "for i in range(0, len(missing_row_values)):\n",
    "    missing_values.append(missing_row_values[i])\n",
    "\n",
    "plt.figure(figsize=(10,4))\n",
    "n, bins, patches = plt.hist(x=missing_values, bins=4)\n",
    "plt.show()"
   ]
  },
  {
   "cell_type": "code",
   "execution_count": 11,
   "metadata": {},
   "outputs": [
    {
     "name": "stdout",
     "output_type": "stream",
     "text": [
      "[ 782046.   15860.   18166.   75149.]\n",
      "[  0.    12.25  24.5   36.75  49.  ]\n"
     ]
    }
   ],
   "source": [
    "print(n)\n",
    "print(bins)"
   ]
  },
  {
   "cell_type": "code",
   "execution_count": 12,
   "metadata": {},
   "outputs": [],
   "source": [
    "# Write code to divide the data into two subsets based on the number of missing\n",
    "# values in each row.\n",
    "azdias_copy = azdias.copy()\n",
    "less_than_12 = azdias_copy[azdias_copy.isnull().sum(axis=1) <= 12.25]\n",
    "more_than_12 = azdias_copy[azdias_copy.isnull().sum(axis=1) > 12.25]"
   ]
  },
  {
   "cell_type": "code",
   "execution_count": 13,
   "metadata": {},
   "outputs": [
    {
     "data": {
      "text/plain": [
       "782046"
      ]
     },
     "execution_count": 13,
     "metadata": {},
     "output_type": "execute_result"
    }
   ],
   "source": [
    "len(less_than_12)"
   ]
  },
  {
   "cell_type": "code",
   "execution_count": 14,
   "metadata": {},
   "outputs": [
    {
     "data": {
      "text/plain": [
       "109175"
      ]
     },
     "execution_count": 14,
     "metadata": {},
     "output_type": "execute_result"
    }
   ],
   "source": [
    "len(more_than_12)"
   ]
  },
  {
   "cell_type": "code",
   "execution_count": 15,
   "metadata": {},
   "outputs": [
    {
     "data": {
      "text/plain": [
       "891221"
      ]
     },
     "execution_count": 15,
     "metadata": {},
     "output_type": "execute_result"
    }
   ],
   "source": [
    "len(azdias)"
   ]
  },
  {
   "cell_type": "code",
   "execution_count": 16,
   "metadata": {},
   "outputs": [
    {
     "data": {
      "text/plain": [
       "<matplotlib.axes._subplots.AxesSubplot at 0x7f4597700d30>"
      ]
     },
     "execution_count": 16,
     "metadata": {},
     "output_type": "execute_result"
    },
    {
     "data": {
      "image/png": "[encoded data removed]",
      "text/plain": [
       "<matplotlib.figure.Figure at 0x7f4598b9d710>"
      ]
     },
     "metadata": {
      "needs_background": "light"
     },
     "output_type": "display_data"
    }
   ],
   "source": [
    "count_more = more_than_12.count()\n",
    "count_more.sort_values(ascending=True).plot()"
   ]
  },
  {
   "cell_type": "code",
   "execution_count": 17,
   "metadata": {},
   "outputs": [
    {
     "data": {
      "text/plain": [
       "<matplotlib.axes._subplots.AxesSubplot at 0x7f45a4f64940>"
      ]
     },
     "execution_count": 17,
     "metadata": {},
     "output_type": "execute_result"
    },
    {
     "data": {
      "image/png": "[encoded data removed]",
      "text/plain": [
       "<matplotlib.figure.Figure at 0x7f4598bf3080>"
      ]
     },
     "metadata": {
      "needs_background": "light"
     },
     "output_type": "display_data"
    }
   ],
   "source": [
    "# Compare the distribution of values for at least five columns where there are\n",
    "# no or few missing values, between the two subsets.\n",
    "count_less = less_than_12.count()\n",
    "count_less.sort_values(ascending=True).plot()"
   ]
  },
  {
   "cell_type": "code",
   "execution_count": 18,
   "metadata": {},
   "outputs": [],
   "source": [
    "def plot_single_comp(feature, ds1, ds2):\n",
    "    fig, ax = plt.subplots(figsize=(12,3), ncols=2)\n",
    "    sns.countplot(x=feature, data=ds1, ax=ax[0])\n",
    "    sns.countplot(x=feature, data=ds2, ax=ax[1])\n",
    "\n",
    "\n",
    "def plot_comparison(ds1, ds2, title):\n",
    "    fig, ax = plt.subplots(figsize=(12,3), ncols=2)\n",
    "    sns.countplot(x='ALTERSKATEGORIE_GROB', data=ds1, ax=ax[0])\n",
    "    sns.countplot(x='ALTERSKATEGORIE_GROB', data=ds2, ax=ax[1])    \n",
    "    fig.suptitle(title, fontsize=20)\n",
    "\n",
    "    plot_single_comp('FINANZ_ANLEGER', ds1, ds2)\n",
    "    plot_single_comp('FINANZ_HAUSBAUER', ds1, ds2)\n",
    "    plot_single_comp('GREEN_AVANTGARDE', ds1, ds2)\n",
    "    plot_single_comp('SEMIO_KAEM', ds1, ds2)\n",
    "    plot_single_comp('ONLINE_AFFINITAET', ds1, ds2)\n",
    "    plot_single_comp('CJT_GESAMTTYP', ds1, ds2)"
   ]
  },
  {
   "cell_type": "code",
   "execution_count": 19,
   "metadata": {},
   "outputs": [
    {
     "data": {
      "image/png": "[encoded data removed]",
      "text/plain": [
       "<matplotlib.figure.Figure at 0x7f4561cf8be0>"
      ]
     },
     "metadata": {
      "needs_background": "light"
     },
     "output_type": "display_data"
    },
    {
     "data": {
      "image/png": "[encoded data removed]",
      "text/plain": [
       "<matplotlib.figure.Figure at 0x7f4561c13da0>"
      ]
     },
     "metadata": {
      "needs_background": "light"
     },
     "output_type": "display_data"
    },
    {
     "data": {
      "image/png": "[encoded data removed]",
      "text/plain": [
       "<matplotlib.figure.Figure at 0x7f4561bec5c0>"
      ]
     },
     "metadata": {
      "needs_background": "light"
     },
     "output_type": "display_data"
    },
    {
     "data": {
      "image/png": "[encoded data removed]",
      "text/plain": [
       "<matplotlib.figure.Figure at 0x7f4561b21f28>"
      ]
     },
     "metadata": {
      "needs_background": "light"
     },
     "output_type": "display_data"
    },
    {
     "data": {
      "image/png": "[encoded data removed]",
      "text/plain": [
       "<matplotlib.figure.Figure at 0x7f4561b73a90>"
      ]
     },
     "metadata": {
      "needs_background": "light"
     },
     "output_type": "display_data"
    },
    {
     "data": {
      "image/png": "[encoded data removed]",
      "text/plain": [
       "<matplotlib.figure.Figure at 0x7f4561a3a128>"
      ]
     },
     "metadata": {
      "needs_background": "light"
     },
     "output_type": "display_data"
    },
    {
     "data": {
      "image/png": "[encoded data removed]",
      "text/plain": [
       "<matplotlib.figure.Figure at 0x7f4561955e80>"
      ]
     },
     "metadata": {
      "needs_background": "light"
     },
     "output_type": "display_data"
    }
   ],
   "source": [
    "plot_comparison(less_than_12, more_than_12, \n",
    "                'Subset 1 (few missing values) vs Subset 2 (lots of missing values)')"
   ]
  },
  {
   "cell_type": "markdown",
   "metadata": {},
   "source": [
    "#### Discussion 1.1.3: Assess Missing Data in Each Row\n",
    "\n",
    "Second subset has 109k rows have less than 12 filled fields of filled data.\n",
    "First subset more than 780k rows have more than 12 fields of filled data."
   ]
  },
  {
   "cell_type": "markdown",
   "metadata": {},
   "source": [
    "### Step 1.2: Select and Re-Encode Features\n",
    "\n",
    "Checking for missing data isn't the only way in which you can prepare a dataset for analysis. Since the unsupervised learning techniques to be used will only work on data that is encoded numerically, you need to make a few encoding changes or additional assumptions to be able to make progress. In addition, while almost all of the values in the dataset are encoded using numbers, not all of them represent numeric values. Check the third column of the feature summary (`feat_info`) for a summary of types of measurement.\n",
    "- For numeric and interval data, these features can be kept without changes.\n",
    "- Most of the variables in the dataset are ordinal in nature. While ordinal values may technically be non-linear in spacing, make the simplifying assumption that the ordinal variables can be treated as being interval in nature (that is, kept without any changes).\n",
    "- Special handling may be necessary for the remaining two variable types: categorical, and 'mixed'.\n",
    "\n",
    "In the first two parts of this sub-step, you will perform an investigation of the categorical and mixed-type features and make a decision on each of them, whether you will keep, drop, or re-encode each. Then, in the last part, you will create a new data frame with only the selected and engineered columns.\n",
    "\n",
    "Data wrangling is often the trickiest part of the data analysis process, and there's a lot of it to be done here. But stick with it: once you're done with this step, you'll be ready to get to the machine learning parts of the project!"
   ]
  },
  {
   "cell_type": "code",
   "execution_count": 20,
   "metadata": {},
   "outputs": [],
   "source": [
    "# How many features are there of each data type?\n",
    "features = {}\n",
    "for index, row in feat_info.iterrows():\n",
    "    column = row['attribute']\n",
    "    row_type = row['type']\n",
    "    if row_type in ['mixed', 'categorical']:\n",
    "        if column not in ['TITEL_KZ', 'AGER_TYP', 'KK_KUNDENTYP', 'KBA05_BAUMAX', 'GEBURTSJAHR', 'ALTER_HH']:\n",
    "            value = less_than_12[column].unique()\n",
    "            if row_type in features:\n",
    "                features[row_type][column] = value\n",
    "            else:\n",
    "                features[row_type] = {column: value}\n",
    "\n",
    "result = []\n",
    "for row, column in features.items():\n",
    "    for feature in column.keys():\n",
    "        result.append('Column: {}. Type: {}. Features: {}. # of features: {}.'.format(feature, row, column[feature], len(column[feature])))"
   ]
  },
  {
   "cell_type": "markdown",
   "metadata": {},
   "source": [
    "#### Step 1.2.1: Re-Encode Categorical Features\n",
    "\n",
    "For categorical data, you would ordinarily need to encode the levels as dummy variables. Depending on the number of categories, perform one of the following:\n",
    "- For binary (two-level) categoricals that take numeric values, you can keep them without needing to do anything.\n",
    "- There is one binary variable that takes on non-numeric values. For this one, you need to re-encode the values as numbers or create a dummy variable.\n",
    "- For multi-level categoricals (three or more values), you can choose to encode the values using multiple dummy variables (e.g. via [OneHotEncoder](http://scikit-learn.org/stable/modules/generated/sklearn.preprocessing.OneHotEncoder.html)), or (to keep things straightforward) just drop them from the analysis. As always, document your choices in the Discussion section."
   ]
  },
  {
   "cell_type": "code",
   "execution_count": 21,
   "metadata": {},
   "outputs": [
    {
     "data": {
      "text/plain": [
       "{'categorical': {'ANREDE_KZ': array([2, 1]),\n",
       "  'CJT_GESAMTTYP': array([  5.,   3.,   2.,   4.,   1.,   6.,  nan]),\n",
       "  'FINANZTYP': array([1, 6, 5, 2, 4, 3]),\n",
       "  'GFK_URLAUBERTYP': array([ 10.,   1.,   5.,  12.,   9.,   3.,   8.,  11.,   4.,   7.,   2.,\n",
       "           6.,  nan]),\n",
       "  'GREEN_AVANTGARDE': array([0, 1]),\n",
       "  'LP_FAMILIE_FEIN': array([  5.,   1.,  nan,  10.,   2.,   7.,  11.,   8.,   4.,   6.,   9.,\n",
       "           3.]),\n",
       "  'LP_FAMILIE_GROB': array([  3.,   1.,  nan,   5.,   2.,   4.]),\n",
       "  'LP_STATUS_FEIN': array([  2.,   3.,   9.,   4.,   1.,  10.,   5.,   8.,   6.,   7.,  nan]),\n",
       "  'LP_STATUS_GROB': array([  1.,   2.,   4.,   5.,   3.,  nan]),\n",
       "  'NATIONALITAET_KZ': array([  1.,   3.,   2.,  nan]),\n",
       "  'SHOPPER_TYP': array([  3.,   2.,   1.,   0.,  nan]),\n",
       "  'SOHO_KZ': array([ 1.,  0.]),\n",
       "  'VERS_TYP': array([  2.,   1.,  nan]),\n",
       "  'ZABEOTYP': array([5, 3, 4, 1, 6, 2]),\n",
       "  'GEBAEUDETYP': array([ 8.,  1.,  3.,  2.,  6.,  4.,  5.]),\n",
       "  'OST_WEST_KZ': array(['W', 'O'], dtype=object),\n",
       "  'CAMEO_DEUG_2015': array(['8', '4', '2', '6', '1', '9', '5', '7', '3', nan], dtype=object),\n",
       "  'CAMEO_DEU_2015': array(['8A', '4C', '2A', '6B', '8C', '4A', '2D', '1A', '1E', '9D', '5C',\n",
       "         '8B', '7A', '5D', '9E', '9B', '1B', '3D', nan, '4E', '4B', '3C',\n",
       "         '5A', '7B', '9A', '6D', '6E', '2C', '7C', '9C', '7D', '5E', '1D',\n",
       "         '8D', '6C', '6A', '5B', '4D', '3A', '2B', '7E', '3B', '6F', '5F',\n",
       "         '1C'], dtype=object)},\n",
       " 'mixed': {'LP_LEBENSPHASE_FEIN': array([ 21.,   3.,  nan,  32.,   8.,   2.,   5.,  10.,   4.,   6.,  23.,\n",
       "          12.,  20.,   1.,  25.,  13.,  18.,  31.,  38.,  35.,  30.,   7.,\n",
       "          22.,  14.,  29.,  24.,  28.,  37.,  26.,  39.,  27.,  36.,   9.,\n",
       "          34.,  33.,  15.,  11.,  40.,  16.,  19.,  17.]),\n",
       "  'LP_LEBENSPHASE_GROB': array([  6.,   1.,  nan,  10.,   2.,   3.,   5.,   7.,  12.,  11.,   9.,\n",
       "           4.,   8.]),\n",
       "  'PRAEGENDE_JUGENDJAHRE': array([ 14.,  15.,   8.,   3.,  10.,  11.,   5.,   9.,   6.,   4.,  nan,\n",
       "           2.,   1.,  12.,  13.,   7.]),\n",
       "  'WOHNLAGE': array([ 4.,  2.,  7.,  3.,  5.,  1.,  8.,  0.]),\n",
       "  'CAMEO_INTL_2015': array(['51', '24', '12', '43', '54', '22', '14', '13', '15', '33', '41',\n",
       "         '34', '55', '25', nan, '23', '31', '52', '35', '45', '44', '32'], dtype=object),\n",
       "  'PLZ8_BAUMAX': array([  1.,   2.,  nan,   4.,   5.,   3.])}}"
      ]
     },
     "metadata": {},
     "output_type": "display_data"
    }
   ],
   "source": [
    "display(features)"
   ]
  },
  {
   "cell_type": "code",
   "execution_count": 22,
   "metadata": {},
   "outputs": [
    {
     "data": {
      "text/plain": [
       "['Column: ANREDE_KZ. Type: categorical. Features: [2 1]. # of features: 2.',\n",
       " 'Column: CJT_GESAMTTYP. Type: categorical. Features: [  5.   3.   2.   4.   1.   6.  nan]. # of features: 7.',\n",
       " 'Column: FINANZTYP. Type: categorical. Features: [1 6 5 2 4 3]. # of features: 6.',\n",
       " 'Column: GFK_URLAUBERTYP. Type: categorical. Features: [ 10.   1.   5.  12.   9.   3.   8.  11.   4.   7.   2.   6.  nan]. # of features: 13.',\n",
       " 'Column: GREEN_AVANTGARDE. Type: categorical. Features: [0 1]. # of features: 2.',\n",
       " 'Column: LP_FAMILIE_FEIN. Type: categorical. Features: [  5.   1.  nan  10.   2.   7.  11.   8.   4.   6.   9.   3.]. # of features: 12.',\n",
       " 'Column: LP_FAMILIE_GROB. Type: categorical. Features: [  3.   1.  nan   5.   2.   4.]. # of features: 6.',\n",
       " 'Column: LP_STATUS_FEIN. Type: categorical. Features: [  2.   3.   9.   4.   1.  10.   5.   8.   6.   7.  nan]. # of features: 11.',\n",
       " 'Column: LP_STATUS_GROB. Type: categorical. Features: [  1.   2.   4.   5.   3.  nan]. # of features: 6.',\n",
       " 'Column: NATIONALITAET_KZ. Type: categorical. Features: [  1.   3.   2.  nan]. # of features: 4.',\n",
       " 'Column: SHOPPER_TYP. Type: categorical. Features: [  3.   2.   1.   0.  nan]. # of features: 5.',\n",
       " 'Column: SOHO_KZ. Type: categorical. Features: [ 1.  0.]. # of features: 2.',\n",
       " 'Column: VERS_TYP. Type: categorical. Features: [  2.   1.  nan]. # of features: 3.',\n",
       " 'Column: ZABEOTYP. Type: categorical. Features: [5 3 4 1 6 2]. # of features: 6.',\n",
       " 'Column: GEBAEUDETYP. Type: categorical. Features: [ 8.  1.  3.  2.  6.  4.  5.]. # of features: 7.',\n",
       " \"Column: OST_WEST_KZ. Type: categorical. Features: ['W' 'O']. # of features: 2.\",\n",
       " \"Column: CAMEO_DEUG_2015. Type: categorical. Features: ['8' '4' '2' '6' '1' '9' '5' '7' '3' nan]. # of features: 10.\",\n",
       " \"Column: CAMEO_DEU_2015. Type: categorical. Features: ['8A' '4C' '2A' '6B' '8C' '4A' '2D' '1A' '1E' '9D' '5C' '8B' '7A' '5D' '9E'\\n '9B' '1B' '3D' nan '4E' '4B' '3C' '5A' '7B' '9A' '6D' '6E' '2C' '7C' '9C'\\n '7D' '5E' '1D' '8D' '6C' '6A' '5B' '4D' '3A' '2B' '7E' '3B' '6F' '5F' '1C']. # of features: 45.\",\n",
       " 'Column: LP_LEBENSPHASE_FEIN. Type: mixed. Features: [ 21.   3.  nan  32.   8.   2.   5.  10.   4.   6.  23.  12.  20.   1.  25.\\n  13.  18.  31.  38.  35.  30.   7.  22.  14.  29.  24.  28.  37.  26.  39.\\n  27.  36.   9.  34.  33.  15.  11.  40.  16.  19.  17.]. # of features: 41.',\n",
       " 'Column: LP_LEBENSPHASE_GROB. Type: mixed. Features: [  6.   1.  nan  10.   2.   3.   5.   7.  12.  11.   9.   4.   8.]. # of features: 13.',\n",
       " 'Column: PRAEGENDE_JUGENDJAHRE. Type: mixed. Features: [ 14.  15.   8.   3.  10.  11.   5.   9.   6.   4.  nan   2.   1.  12.  13.\\n   7.]. # of features: 16.',\n",
       " 'Column: WOHNLAGE. Type: mixed. Features: [ 4.  2.  7.  3.  5.  1.  8.  0.]. # of features: 8.',\n",
       " \"Column: CAMEO_INTL_2015. Type: mixed. Features: ['51' '24' '12' '43' '54' '22' '14' '13' '15' '33' '41' '34' '55' '25' nan\\n '23' '31' '52' '35' '45' '44' '32']. # of features: 22.\",\n",
       " 'Column: PLZ8_BAUMAX. Type: mixed. Features: [  1.   2.  nan   4.   5.   3.]. # of features: 6.']"
      ]
     },
     "metadata": {},
     "output_type": "display_data"
    }
   ],
   "source": [
    "display(result)"
   ]
  },
  {
   "cell_type": "code",
   "execution_count": 23,
   "metadata": {},
   "outputs": [
    {
     "name": "stdout",
     "output_type": "stream",
     "text": [
      "Column OST_WEST_KZ type is binary. It should be re-encoded: yes. Values: ['W' 'O']\n",
      "Column CAMEO_DEU_2015 type is multilevel. It should be re-encoded: yes. Values: ['8A' '4C' '2A' '6B' '8C' '4A' '2D' '1A' '1E' '9D' '5C' '8B' '7A' '5D' '9E'\n",
      " '9B' '1B' '3D' nan '4E' '4B' '3C' '5A' '7B' '9A' '6D' '6E' '2C' '7C' '9C'\n",
      " '7D' '5E' '1D' '8D' '6C' '6A' '5B' '4D' '3A' '2B' '7E' '3B' '6F' '5F' '1C']\n"
     ]
    }
   ],
   "source": [
    "# Assess categorical variables: which are binary, which are multi-level, and\n",
    "# which one needs to be re-encoded?\n",
    "import re\n",
    "for column in features['categorical']:\n",
    "    check = list(filter(lambda x: str(x) != 'nan', features['categorical'][column]))\n",
    "    block = []\n",
    "    for item in check:\n",
    "        if '.' not in str(item):\n",
    "            try:\n",
    "                int(item)\n",
    "            except ValueError:\n",
    "                block.append(item)\n",
    "    column_type = 'binary' if len(features['categorical'][column]) <= 3 else 'multilevel'\n",
    "    should_be_converted = 'yes' if len(block) > 0 else 'no'\n",
    "    if should_be_converted == 'yes':\n",
    "        print('Column {} type is {}. It should be re-encoded: {}. Values: {}'.format(column, column_type, should_be_converted, features['categorical'][column]))\n"
   ]
  },
  {
   "cell_type": "code",
   "execution_count": 24,
   "metadata": {},
   "outputs": [
    {
     "name": "stderr",
     "output_type": "stream",
     "text": [
      "/opt/conda/lib/python3.6/site-packages/ipykernel_launcher.py:7: SettingWithCopyWarning: \n",
      "A value is trying to be set on a copy of a slice from a DataFrame.\n",
      "Try using .loc[row_indexer,col_indexer] = value instead\n",
      "\n",
      "See the caveats in the documentation: http://pandas.pydata.org/pandas-docs/stable/indexing.html#indexing-view-versus-copy\n",
      "  import sys\n"
     ]
    }
   ],
   "source": [
    "# Re-encode categorical variable(s) to be kept in the analysis.\n",
    "def dealWithWO(x):\n",
    "    if x == 'nan':\n",
    "        return x\n",
    "    return 1 if x == 'W' else 0\n",
    "\n",
    "less_than_12['OST_WEST_KZ'] = less_than_12.apply(lambda x: dealWithWO(x.OST_WEST_KZ), axis=1)\n"
   ]
  },
  {
   "cell_type": "code",
   "execution_count": 25,
   "metadata": {},
   "outputs": [
    {
     "name": "stderr",
     "output_type": "stream",
     "text": [
      "/opt/conda/lib/python3.6/site-packages/ipykernel_launcher.py:7: SettingWithCopyWarning: \n",
      "A value is trying to be set on a copy of a slice from a DataFrame.\n",
      "Try using .loc[row_indexer,col_indexer] = value instead\n",
      "\n",
      "See the caveats in the documentation: http://pandas.pydata.org/pandas-docs/stable/indexing.html#indexing-view-versus-copy\n",
      "  import sys\n"
     ]
    }
   ],
   "source": [
    "def coerce_to_int(val):\n",
    "    try:\n",
    "       return int(str(val), base=16)\n",
    "    except ValueError:\n",
    "       return val\n",
    "\n",
    "less_than_12['CAMEO_DEU_2015'] = less_than_12.apply(lambda x: coerce_to_int(x.CAMEO_DEU_2015), axis=1)"
   ]
  },
  {
   "cell_type": "code",
   "execution_count": 26,
   "metadata": {},
   "outputs": [
    {
     "data": {
      "text/plain": [
       "array([ 138.,   76.,   42.,  107.,  140.,   74.,   45.,   26.,   30.,\n",
       "        157.,   92.,  139.,  122.,   93.,  158.,  155.,   27.,   61.,\n",
       "         nan,   78.,   75.,   60.,   90.,  123.,  154.,  109.,  110.,\n",
       "         44.,  124.,  156.,  125.,   94.,   29.,  141.,  108.,  106.,\n",
       "         91.,   77.,   58.,   43.,  126.,   59.,  111.,   95.,   28.])"
      ]
     },
     "execution_count": 26,
     "metadata": {},
     "output_type": "execute_result"
    }
   ],
   "source": [
    "less_than_12['CAMEO_DEU_2015'].unique()"
   ]
  },
  {
   "cell_type": "markdown",
   "metadata": {},
   "source": [
    "#### Discussion 1.2.1: Re-Encode Categorical Features\n",
    "\n",
    "I decided to recode OST_WEST_KZ from str to binary type.\n",
    "I also reworked CAMEO_DEU_2015 so it will be int type instead of mixed object type."
   ]
  },
  {
   "cell_type": "markdown",
   "metadata": {},
   "source": [
    "#### Step 1.2.2: Engineer Mixed-Type Features\n",
    "\n",
    "There are a handful of features that are marked as \"mixed\" in the feature summary that require special treatment in order to be included in the analysis. There are two in particular that deserve attention; the handling of the rest are up to your own choices:\n",
    "- \"PRAEGENDE_JUGENDJAHRE\" combines information on three dimensions: generation by decade, movement (mainstream vs. avantgarde), and nation (east vs. west). While there aren't enough levels to disentangle east from west, you should create two new variables to capture the other two dimensions: an interval-type variable for decade, and a binary variable for movement.\n",
    "- \"CAMEO_INTL_2015\" combines information on two axes: wealth and life stage. Break up the two-digit codes by their 'tens'-place and 'ones'-place digits into two new ordinal variables (which, for the purposes of this project, is equivalent to just treating them as their raw numeric values).\n",
    "- If you decide to keep or engineer new features around the other mixed-type features, make sure you note your steps in the Discussion section.\n",
    "\n",
    "Be sure to check `Data_Dictionary.md` for the details needed to finish these tasks."
   ]
  },
  {
   "cell_type": "code",
   "execution_count": 27,
   "metadata": {},
   "outputs": [
    {
     "name": "stderr",
     "output_type": "stream",
     "text": [
      "/opt/conda/lib/python3.6/site-packages/ipykernel_launcher.py:4: SettingWithCopyWarning: \n",
      "A value is trying to be set on a copy of a slice from a DataFrame.\n",
      "Try using .loc[row_indexer,col_indexer] = value instead\n",
      "\n",
      "See the caveats in the documentation: http://pandas.pydata.org/pandas-docs/stable/indexing.html#indexing-view-versus-copy\n",
      "  after removing the cwd from sys.path.\n",
      "/opt/conda/lib/python3.6/site-packages/ipykernel_launcher.py:19: SettingWithCopyWarning: \n",
      "A value is trying to be set on a copy of a slice from a DataFrame.\n",
      "Try using .loc[row_indexer,col_indexer] = value instead\n",
      "\n",
      "See the caveats in the documentation: http://pandas.pydata.org/pandas-docs/stable/indexing.html#indexing-view-versus-copy\n"
     ]
    }
   ],
   "source": [
    "# Investigate \"PRAEGENDE_JUGENDJAHRE\" and engineer two new variables.\n",
    "def coerce_to_movement(val):\n",
    "    return 1 if val in [-1, 0, 1, 3, 5, 8, 10, 12, 14] else 0\n",
    "less_than_12['PRAEGENDE_JUGENDJAHRE_MOVEMENT']=less_than_12.apply(lambda x: coerce_to_movement(x.PRAEGENDE_JUGENDJAHRE), axis=1)\n",
    "\n",
    "def coerce_to_age(val):\n",
    "    if val in [-1, 0, 1, 2]:\n",
    "        return 1\n",
    "    if val in [3, 4]:\n",
    "        return 2\n",
    "    if val in [5, 6, 7]:\n",
    "        return 3\n",
    "    if val in [8, 9]:\n",
    "        return 4\n",
    "    if val in [10, 11, 12, 13]:\n",
    "        return 5\n",
    "    return 6\n",
    "\n",
    "less_than_12['PRAEGENDE_JUGENDJAHRE_AGE']=less_than_12.apply(lambda x: coerce_to_age(x.PRAEGENDE_JUGENDJAHRE), axis=1)\n"
   ]
  },
  {
   "cell_type": "code",
   "execution_count": 28,
   "metadata": {},
   "outputs": [
    {
     "data": {
      "text/plain": [
       "array([1, 0])"
      ]
     },
     "execution_count": 28,
     "metadata": {},
     "output_type": "execute_result"
    }
   ],
   "source": [
    "less_than_12['PRAEGENDE_JUGENDJAHRE_MOVEMENT'].unique()"
   ]
  },
  {
   "cell_type": "code",
   "execution_count": 29,
   "metadata": {},
   "outputs": [
    {
     "data": {
      "text/plain": [
       "array([6, 4, 2, 5, 3, 1])"
      ]
     },
     "execution_count": 29,
     "metadata": {},
     "output_type": "execute_result"
    }
   ],
   "source": [
    "less_than_12['PRAEGENDE_JUGENDJAHRE_AGE'].unique()"
   ]
  },
  {
   "cell_type": "code",
   "execution_count": 30,
   "metadata": {},
   "outputs": [
    {
     "name": "stderr",
     "output_type": "stream",
     "text": [
      "/opt/conda/lib/python3.6/site-packages/ipykernel_launcher.py:13: SettingWithCopyWarning: \n",
      "A value is trying to be set on a copy of a slice from a DataFrame.\n",
      "Try using .loc[row_indexer,col_indexer] = value instead\n",
      "\n",
      "See the caveats in the documentation: http://pandas.pydata.org/pandas-docs/stable/indexing.html#indexing-view-versus-copy\n",
      "  del sys.path[0]\n"
     ]
    }
   ],
   "source": [
    "# Investigate \"CAMEO_INTL_2015\" and engineer two new variables.\n",
    "def coerce_to_wealth(val):\n",
    "    if val in ['-1', '11', '12', '13', '14', '15']:\n",
    "        return 1\n",
    "    if val in ['21', '22', '23', '24', '25']:\n",
    "        return 2\n",
    "    if val in ['31', '32', '33', '34', '35']:\n",
    "        return 3\n",
    "    if val in ['41', '42', '43', '44', '45']:\n",
    "        return 4\n",
    "    return 5\n",
    "\n",
    "less_than_12['CAMEO_INTL_2015_WEALTH']=less_than_12.apply(lambda x: coerce_to_wealth(x.CAMEO_INTL_2015), axis=1)\n"
   ]
  },
  {
   "cell_type": "code",
   "execution_count": 31,
   "metadata": {},
   "outputs": [
    {
     "data": {
      "text/plain": [
       "array([5, 2, 1, 4, 3])"
      ]
     },
     "execution_count": 31,
     "metadata": {},
     "output_type": "execute_result"
    }
   ],
   "source": [
    "less_than_12['CAMEO_INTL_2015_WEALTH'].unique()"
   ]
  },
  {
   "cell_type": "code",
   "execution_count": 32,
   "metadata": {},
   "outputs": [
    {
     "name": "stderr",
     "output_type": "stream",
     "text": [
      "/opt/conda/lib/python3.6/site-packages/ipykernel_launcher.py:11: SettingWithCopyWarning: \n",
      "A value is trying to be set on a copy of a slice from a DataFrame.\n",
      "Try using .loc[row_indexer,col_indexer] = value instead\n",
      "\n",
      "See the caveats in the documentation: http://pandas.pydata.org/pandas-docs/stable/indexing.html#indexing-view-versus-copy\n",
      "  # This is added back by InteractiveShellApp.init_path()\n"
     ]
    }
   ],
   "source": [
    "def coerce_to_life_stage(val):\n",
    "    if val in ['-1', '11', '21', '31', '41', '51']:\n",
    "        return 1\n",
    "    if val in ['12', '22', '32', '42', '52']:\n",
    "        return 2\n",
    "    if val in ['13', '23', '33', '43', '53']:\n",
    "        return 3\n",
    "    if val in ['14', '24', '34', '44', '54']:\n",
    "        return 4\n",
    "    return 5\n",
    "less_than_12['CAMEO_INTL_2015_LIFE_STAGE']=less_than_12.apply(lambda x: coerce_to_life_stage(x.CAMEO_INTL_2015), axis=1)"
   ]
  },
  {
   "cell_type": "code",
   "execution_count": 33,
   "metadata": {},
   "outputs": [
    {
     "data": {
      "text/plain": [
       "array([1, 4, 2, 3, 5])"
      ]
     },
     "execution_count": 33,
     "metadata": {},
     "output_type": "execute_result"
    }
   ],
   "source": [
    "less_than_12['CAMEO_INTL_2015_LIFE_STAGE'].unique()"
   ]
  },
  {
   "cell_type": "markdown",
   "metadata": {},
   "source": [
    "#### Discussion 1.2.2: Engineer Mixed-Type Features\n",
    "\n",
    "I found in PRAEGENDE_JUGENDJAHRE feature:\n",
    "1. that there were only two movements groups: mainstream and avantgarde, so i decided to stick with binary type grouping.\n",
    "2. i also found that all groups could be splitted into 6 periods.\n",
    "\n",
    "In CAMEO_INTL_2015 i discovered:\n",
    "That there were 5 wealth and life-stage, groups which were easily splitted into 5 stages."
   ]
  },
  {
   "cell_type": "markdown",
   "metadata": {},
   "source": [
    "#### Step 1.2.3: Complete Feature Selection\n",
    "\n",
    "In order to finish this step up, you need to make sure that your data frame now only has the columns that you want to keep. To summarize, the dataframe should consist of the following:\n",
    "- All numeric, interval, and ordinal type columns from the original dataset.\n",
    "- Binary categorical features (all numerically-encoded).\n",
    "- Engineered features from other multi-level categorical features and mixed features.\n",
    "\n",
    "Make sure that for any new columns that you have engineered, that you've excluded the original columns from the final dataset. Otherwise, their values will interfere with the analysis later on the project. For example, you should not keep \"PRAEGENDE_JUGENDJAHRE\", since its values won't be useful for the algorithm: only the values derived from it in the engineered features you created should be retained. As a reminder, your data should only be from **the subset with few or no missing values**."
   ]
  },
  {
   "cell_type": "code",
   "execution_count": 34,
   "metadata": {},
   "outputs": [],
   "source": [
    "# If there are other re-engineering tasks you need to perform, make sure you\n",
    "# take care of them here. (Dealing with missing data will come in step 2.1.)\n",
    "del less_than_12['PRAEGENDE_JUGENDJAHRE']\n",
    "del less_than_12['CAMEO_INTL_2015']\n"
   ]
  },
  {
   "cell_type": "code",
   "execution_count": 35,
   "metadata": {},
   "outputs": [
    {
     "data": {
      "text/html": [
       "<div>\n",
       "<style scoped>\n",
       "    .dataframe tbody tr th:only-of-type {\n",
       "        vertical-align: middle;\n",
       "    }\n",
       "\n",
       "    .dataframe tbody tr th {\n",
       "        vertical-align: top;\n",
       "    }\n",
       "\n",
       "    .dataframe thead th {\n",
       "        text-align: right;\n",
       "    }\n",
       "</style>\n",
       "<table border=\"1\" class=\"dataframe\">\n",
       "  <thead>\n",
       "    <tr style=\"text-align: right;\">\n",
       "      <th></th>\n",
       "      <th>ALTERSKATEGORIE_GROB</th>\n",
       "      <th>ANREDE_KZ</th>\n",
       "      <th>CJT_GESAMTTYP</th>\n",
       "      <th>FINANZ_MINIMALIST</th>\n",
       "      <th>FINANZ_SPARER</th>\n",
       "      <th>FINANZ_VORSORGER</th>\n",
       "      <th>FINANZ_ANLEGER</th>\n",
       "      <th>FINANZ_UNAUFFAELLIGER</th>\n",
       "      <th>FINANZ_HAUSBAUER</th>\n",
       "      <th>FINANZTYP</th>\n",
       "      <th>...</th>\n",
       "      <th>PLZ8_ANTG4</th>\n",
       "      <th>PLZ8_HHZ</th>\n",
       "      <th>PLZ8_GBZ</th>\n",
       "      <th>ARBEIT</th>\n",
       "      <th>ORTSGR_KLS9</th>\n",
       "      <th>RELAT_AB</th>\n",
       "      <th>PRAEGENDE_JUGENDJAHRE_MOVEMENT</th>\n",
       "      <th>PRAEGENDE_JUGENDJAHRE_AGE</th>\n",
       "      <th>CAMEO_INTL_2015_WEALTH</th>\n",
       "      <th>CAMEO_INTL_2015_LIFE_STAGE</th>\n",
       "    </tr>\n",
       "  </thead>\n",
       "  <tbody>\n",
       "    <tr>\n",
       "      <th>1</th>\n",
       "      <td>1.0</td>\n",
       "      <td>2</td>\n",
       "      <td>5.0</td>\n",
       "      <td>1</td>\n",
       "      <td>5</td>\n",
       "      <td>2</td>\n",
       "      <td>5</td>\n",
       "      <td>4</td>\n",
       "      <td>5</td>\n",
       "      <td>1</td>\n",
       "      <td>...</td>\n",
       "      <td>1.0</td>\n",
       "      <td>5.0</td>\n",
       "      <td>4.0</td>\n",
       "      <td>3.0</td>\n",
       "      <td>5.0</td>\n",
       "      <td>4.0</td>\n",
       "      <td>1</td>\n",
       "      <td>6</td>\n",
       "      <td>5</td>\n",
       "      <td>1</td>\n",
       "    </tr>\n",
       "    <tr>\n",
       "      <th>2</th>\n",
       "      <td>3.0</td>\n",
       "      <td>2</td>\n",
       "      <td>3.0</td>\n",
       "      <td>1</td>\n",
       "      <td>4</td>\n",
       "      <td>1</td>\n",
       "      <td>2</td>\n",
       "      <td>3</td>\n",
       "      <td>5</td>\n",
       "      <td>1</td>\n",
       "      <td>...</td>\n",
       "      <td>0.0</td>\n",
       "      <td>4.0</td>\n",
       "      <td>4.0</td>\n",
       "      <td>3.0</td>\n",
       "      <td>5.0</td>\n",
       "      <td>2.0</td>\n",
       "      <td>0</td>\n",
       "      <td>6</td>\n",
       "      <td>2</td>\n",
       "      <td>4</td>\n",
       "    </tr>\n",
       "    <tr>\n",
       "      <th>3</th>\n",
       "      <td>4.0</td>\n",
       "      <td>2</td>\n",
       "      <td>2.0</td>\n",
       "      <td>4</td>\n",
       "      <td>2</td>\n",
       "      <td>5</td>\n",
       "      <td>2</td>\n",
       "      <td>1</td>\n",
       "      <td>2</td>\n",
       "      <td>6</td>\n",
       "      <td>...</td>\n",
       "      <td>0.0</td>\n",
       "      <td>3.0</td>\n",
       "      <td>4.0</td>\n",
       "      <td>2.0</td>\n",
       "      <td>3.0</td>\n",
       "      <td>3.0</td>\n",
       "      <td>1</td>\n",
       "      <td>4</td>\n",
       "      <td>1</td>\n",
       "      <td>2</td>\n",
       "    </tr>\n",
       "    <tr>\n",
       "      <th>4</th>\n",
       "      <td>3.0</td>\n",
       "      <td>1</td>\n",
       "      <td>5.0</td>\n",
       "      <td>4</td>\n",
       "      <td>3</td>\n",
       "      <td>4</td>\n",
       "      <td>1</td>\n",
       "      <td>3</td>\n",
       "      <td>2</td>\n",
       "      <td>5</td>\n",
       "      <td>...</td>\n",
       "      <td>1.0</td>\n",
       "      <td>3.0</td>\n",
       "      <td>3.0</td>\n",
       "      <td>4.0</td>\n",
       "      <td>6.0</td>\n",
       "      <td>5.0</td>\n",
       "      <td>1</td>\n",
       "      <td>4</td>\n",
       "      <td>4</td>\n",
       "      <td>3</td>\n",
       "    </tr>\n",
       "    <tr>\n",
       "      <th>5</th>\n",
       "      <td>1.0</td>\n",
       "      <td>2</td>\n",
       "      <td>2.0</td>\n",
       "      <td>3</td>\n",
       "      <td>1</td>\n",
       "      <td>5</td>\n",
       "      <td>2</td>\n",
       "      <td>2</td>\n",
       "      <td>5</td>\n",
       "      <td>2</td>\n",
       "      <td>...</td>\n",
       "      <td>1.0</td>\n",
       "      <td>5.0</td>\n",
       "      <td>5.0</td>\n",
       "      <td>2.0</td>\n",
       "      <td>3.0</td>\n",
       "      <td>3.0</td>\n",
       "      <td>1</td>\n",
       "      <td>2</td>\n",
       "      <td>5</td>\n",
       "      <td>4</td>\n",
       "    </tr>\n",
       "  </tbody>\n",
       "</table>\n",
       "<p>5 rows × 77 columns</p>\n",
       "</div>"
      ],
      "text/plain": [
       "   ALTERSKATEGORIE_GROB  ANREDE_KZ  CJT_GESAMTTYP  FINANZ_MINIMALIST  \\\n",
       "1                   1.0          2            5.0                  1   \n",
       "2                   3.0          2            3.0                  1   \n",
       "3                   4.0          2            2.0                  4   \n",
       "4                   3.0          1            5.0                  4   \n",
       "5                   1.0          2            2.0                  3   \n",
       "\n",
       "   FINANZ_SPARER  FINANZ_VORSORGER  FINANZ_ANLEGER  FINANZ_UNAUFFAELLIGER  \\\n",
       "1              5                 2               5                      4   \n",
       "2              4                 1               2                      3   \n",
       "3              2                 5               2                      1   \n",
       "4              3                 4               1                      3   \n",
       "5              1                 5               2                      2   \n",
       "\n",
       "   FINANZ_HAUSBAUER  FINANZTYP             ...              PLZ8_ANTG4  \\\n",
       "1                 5          1             ...                     1.0   \n",
       "2                 5          1             ...                     0.0   \n",
       "3                 2          6             ...                     0.0   \n",
       "4                 2          5             ...                     1.0   \n",
       "5                 5          2             ...                     1.0   \n",
       "\n",
       "   PLZ8_HHZ  PLZ8_GBZ  ARBEIT  ORTSGR_KLS9  RELAT_AB  \\\n",
       "1       5.0       4.0     3.0          5.0       4.0   \n",
       "2       4.0       4.0     3.0          5.0       2.0   \n",
       "3       3.0       4.0     2.0          3.0       3.0   \n",
       "4       3.0       3.0     4.0          6.0       5.0   \n",
       "5       5.0       5.0     2.0          3.0       3.0   \n",
       "\n",
       "   PRAEGENDE_JUGENDJAHRE_MOVEMENT  PRAEGENDE_JUGENDJAHRE_AGE  \\\n",
       "1                               1                          6   \n",
       "2                               0                          6   \n",
       "3                               1                          4   \n",
       "4                               1                          4   \n",
       "5                               1                          2   \n",
       "\n",
       "   CAMEO_INTL_2015_WEALTH  CAMEO_INTL_2015_LIFE_STAGE  \n",
       "1                       5                           1  \n",
       "2                       2                           4  \n",
       "3                       1                           2  \n",
       "4                       4                           3  \n",
       "5                       5                           4  \n",
       "\n",
       "[5 rows x 77 columns]"
      ]
     },
     "execution_count": 35,
     "metadata": {},
     "output_type": "execute_result"
    }
   ],
   "source": [
    "# Do whatever you need to in order to ensure that the dataframe only contains\n",
    "# the columns that should be passed to the algorithm functions.\n",
    "mixed_cat = ['LP_LEBENSPHASE_FEIN', 'LP_LEBENSPHASE_GROB', 'WOHNLAGE', 'PLZ8_BAUMAX']\n",
    "\n",
    "final_encoded_azdias = less_than_12.drop(mixed_cat, axis=1)\n",
    "final_encoded_azdias.head()"
   ]
  },
  {
   "cell_type": "markdown",
   "metadata": {},
   "source": [
    "### Step 1.3: Create a Cleaning Function\n",
    "\n",
    "Even though you've finished cleaning up the general population demographics data, it's important to look ahead to the future and realize that you'll need to perform the same cleaning steps on the customer demographics data. In this substep, complete the function below to execute the main feature selection, encoding, and re-engineering steps you performed above. Then, when it comes to looking at the customer data in Step 3, you can just run this function on that DataFrame to get the trimmed dataset in a single step."
   ]
  },
  {
   "cell_type": "code",
   "execution_count": 36,
   "metadata": {},
   "outputs": [],
   "source": [
    "def clean_data(df_copy):\n",
    "    \"\"\"\n",
    "    Perform feature trimming, re-encoding, and engineering for demographics\n",
    "    data\n",
    "    \n",
    "    INPUT: Demographics DataFrame\n",
    "    OUTPUT: Trimmed and cleaned demographics DataFrame\n",
    "    \"\"\"\n",
    "    def dealWithWO(x):\n",
    "        if x == 'nan':\n",
    "            return x\n",
    "        return 1 if x == 'W' else 0\n",
    "\n",
    "    def coerce_to_int(val):\n",
    "        try:\n",
    "           return int(str(val), base=16)\n",
    "        except ValueError:\n",
    "           return val\n",
    "    def coerce_to_movement(val):\n",
    "        return 1 if val in [-1, 0, 1, 3, 5, 8, 10, 12, 14] else 0\n",
    "    \n",
    "    def coerce_to_age(val):\n",
    "        if val in [-1, 0, 1, 2]:\n",
    "            return 1\n",
    "        if val in [3, 4]:\n",
    "            return 2\n",
    "        if val in [5, 6, 7]:\n",
    "            return 3\n",
    "        if val in [8, 9]:\n",
    "            return 4\n",
    "        if val in [10, 11, 12, 13]:\n",
    "            return 5\n",
    "        return 6\n",
    "    \n",
    "    def coerce_to_wealth(val):\n",
    "        if val in ['-1', '11', '12', '13', '14', '15']:\n",
    "            return 1\n",
    "        if val in ['21', '22', '23', '24', '25']:\n",
    "            return 2\n",
    "        if val in ['31', '32', '33', '34', '35']:\n",
    "            return 3\n",
    "        if val in ['41', '42', '43', '44', '45']:\n",
    "            return 4\n",
    "        return 5\n",
    "\n",
    "    def coerce_to_life_stage(val):\n",
    "        if val in ['-1', '11', '21', '31', '41', '51']:\n",
    "            return 1\n",
    "        if val in ['12', '22', '32', '42', '52']:\n",
    "            return 2\n",
    "        if val in ['13', '23', '33', '43', '53']:\n",
    "            return 3\n",
    "        if val in ['14', '24', '34', '44', '54']:\n",
    "            return 4\n",
    "        return 5\n",
    "    \n",
    "    # Put in code here to execute all main cleaning steps:\n",
    "    # convert missing value codes into NaNs, ...\n",
    "\n",
    "    for index, row in feat_info.iterrows():\n",
    "        column = row['attribute']\n",
    "        mia = row['missing_or_unknown'][1:-1].split(',')\n",
    "        if len(mia) > 0:\n",
    "            for value in mia:\n",
    "                if value != '':\n",
    "                    if value == '-1':\n",
    "                        value = -1\n",
    "                    if (value != 'XX' and value != 'X'):\n",
    "                        value = float(value)\n",
    "                    df_copy[column] = df_copy[column].replace(to_replace=value, value=np.NaN)\n",
    "    \n",
    "    # remove selected columns and rows, ...\n",
    "    del df_copy['TITEL_KZ']\n",
    "    del df_copy['AGER_TYP']\n",
    "    del df_copy['KK_KUNDENTYP']\n",
    "    del df_copy['KBA05_BAUMAX']\n",
    "    del df_copy['GEBURTSJAHR']\n",
    "    del df_copy['ALTER_HH']\n",
    "                    \n",
    "    df_copy = df_copy[df_copy.isnull().sum(axis=1) <= 12.25]\n",
    "    \n",
    "    # select, re-encode, and engineer column values.\n",
    "    df_copy['OST_WEST_KZ'] = df_copy.apply(lambda x: dealWithWO(x.OST_WEST_KZ), axis=1)\n",
    "    df_copy['CAMEO_DEU_2015'] = df_copy.apply(lambda x: coerce_to_int(x.CAMEO_DEU_2015), axis=1)\n",
    "    df_copy['PRAEGENDE_JUGENDJAHRE_MOVEMENT']=df_copy.apply(lambda x: coerce_to_movement(x.PRAEGENDE_JUGENDJAHRE), axis=1)\n",
    "    df_copy['PRAEGENDE_JUGENDJAHRE_AGE']=df_copy.apply(lambda x: coerce_to_age(x.PRAEGENDE_JUGENDJAHRE), axis=1)\n",
    "    df_copy['CAMEO_INTL_2015_LIFE_STAGE']=df_copy.apply(lambda x: coerce_to_life_stage(x.CAMEO_INTL_2015), axis=1)\n",
    "    df_copy['CAMEO_INTL_2015_WEALTH']=df_copy.apply(lambda x: coerce_to_wealth(x.CAMEO_INTL_2015), axis=1)\n",
    "    del df_copy['PRAEGENDE_JUGENDJAHRE']\n",
    "    del df_copy['CAMEO_INTL_2015']\n",
    "    mixed_cat = ['LP_LEBENSPHASE_FEIN', 'LP_LEBENSPHASE_GROB', 'WOHNLAGE', 'PLZ8_BAUMAX']\n",
    "\n",
    "    df_copy = df_copy.drop(mixed_cat, axis=1)\n",
    "    # Return the cleaned dataframe.\n",
    "    return df_copy\n",
    "    "
   ]
  },
  {
   "cell_type": "markdown",
   "metadata": {},
   "source": [
    "## Step 2: Feature Transformation\n",
    "\n",
    "### Step 2.1: Apply Feature Scaling\n",
    "\n",
    "Before we apply dimensionality reduction techniques to the data, we need to perform feature scaling so that the principal component vectors are not influenced by the natural differences in scale for features. Starting from this part of the project, you'll want to keep an eye on the [API reference page for sklearn](http://scikit-learn.org/stable/modules/classes.html) to help you navigate to all of the classes and functions that you'll need. In this substep, you'll need to check the following:\n",
    "\n",
    "- sklearn requires that data not have missing values in order for its estimators to work properly. So, before applying the scaler to your data, make sure that you've cleaned the DataFrame of the remaining missing values. This can be as simple as just removing all data points with missing data, or applying an [Imputer](http://scikit-learn.org/stable/modules/generated/sklearn.preprocessing.Imputer.html) to replace all missing values. You might also try a more complicated procedure where you temporarily remove missing values in order to compute the scaling parameters before re-introducing those missing values and applying imputation. Think about how much missing data you have and what possible effects each approach might have on your analysis, and justify your decision in the discussion section below.\n",
    "- For the actual scaling function, a [StandardScaler](http://scikit-learn.org/stable/modules/generated/sklearn.preprocessing.StandardScaler.html) instance is suggested, scaling each feature to mean 0 and standard deviation 1.\n",
    "- For these classes, you can make use of the `.fit_transform()` method to both fit a procedure to the data as well as apply the transformation to the data at the same time. Don't forget to keep the fit sklearn objects handy, since you'll be applying them to the customer demographics data towards the end of the project."
   ]
  },
  {
   "cell_type": "code",
   "execution_count": 37,
   "metadata": {},
   "outputs": [],
   "source": [
    "# If you've not yet cleaned the dataset of all NaN values, then investigate and\n",
    "# do that now.\n",
    "from sklearn.preprocessing import Imputer\n",
    "imr = Imputer(missing_values='NaN', strategy='mean')\n",
    "features_w_nan = final_encoded_azdias.columns[final_encoded_azdias.isna().any()].tolist()\n",
    "for feature in features_w_nan:\n",
    "    final_encoded_azdias[feature] = imr.fit_transform(final_encoded_azdias[[feature]])"
   ]
  },
  {
   "cell_type": "code",
   "execution_count": 38,
   "metadata": {},
   "outputs": [],
   "source": [
    "# Apply feature scaling to the general population demographics data.\n",
    "from sklearn.preprocessing import StandardScaler\n",
    "scaler = StandardScaler(copy=True, with_mean=True, with_std=True)\n",
    "final_encoded_azdias[final_encoded_azdias.columns] = scaler.fit_transform(final_encoded_azdias)"
   ]
  },
  {
   "cell_type": "code",
   "execution_count": 39,
   "metadata": {},
   "outputs": [],
   "source": [
    "final_azdias = final_encoded_azdias"
   ]
  },
  {
   "cell_type": "code",
   "execution_count": 40,
   "metadata": {},
   "outputs": [
    {
     "data": {
      "text/html": [
       "<div>\n",
       "<style scoped>\n",
       "    .dataframe tbody tr th:only-of-type {\n",
       "        vertical-align: middle;\n",
       "    }\n",
       "\n",
       "    .dataframe tbody tr th {\n",
       "        vertical-align: top;\n",
       "    }\n",
       "\n",
       "    .dataframe thead th {\n",
       "        text-align: right;\n",
       "    }\n",
       "</style>\n",
       "<table border=\"1\" class=\"dataframe\">\n",
       "  <thead>\n",
       "    <tr style=\"text-align: right;\">\n",
       "      <th></th>\n",
       "      <th>ALTERSKATEGORIE_GROB</th>\n",
       "      <th>ANREDE_KZ</th>\n",
       "      <th>CJT_GESAMTTYP</th>\n",
       "      <th>FINANZ_MINIMALIST</th>\n",
       "      <th>FINANZ_SPARER</th>\n",
       "      <th>FINANZ_VORSORGER</th>\n",
       "      <th>FINANZ_ANLEGER</th>\n",
       "      <th>FINANZ_UNAUFFAELLIGER</th>\n",
       "      <th>FINANZ_HAUSBAUER</th>\n",
       "      <th>FINANZTYP</th>\n",
       "      <th>...</th>\n",
       "      <th>PLZ8_ANTG4</th>\n",
       "      <th>PLZ8_HHZ</th>\n",
       "      <th>PLZ8_GBZ</th>\n",
       "      <th>ARBEIT</th>\n",
       "      <th>ORTSGR_KLS9</th>\n",
       "      <th>RELAT_AB</th>\n",
       "      <th>PRAEGENDE_JUGENDJAHRE_MOVEMENT</th>\n",
       "      <th>PRAEGENDE_JUGENDJAHRE_AGE</th>\n",
       "      <th>CAMEO_INTL_2015_WEALTH</th>\n",
       "      <th>CAMEO_INTL_2015_LIFE_STAGE</th>\n",
       "    </tr>\n",
       "  </thead>\n",
       "  <tbody>\n",
       "    <tr>\n",
       "      <th>1</th>\n",
       "      <td>-1.767309</td>\n",
       "      <td>0.958203</td>\n",
       "      <td>0.979706</td>\n",
       "      <td>-1.488579</td>\n",
       "      <td>1.539141</td>\n",
       "      <td>-1.045335</td>\n",
       "      <td>1.466874</td>\n",
       "      <td>0.979056</td>\n",
       "      <td>1.327541</td>\n",
       "      <td>-1.347486</td>\n",
       "      <td>...</td>\n",
       "      <td>0.415570</td>\n",
       "      <td>1.432549</td>\n",
       "      <td>0.560345</td>\n",
       "      <td>-0.174490</td>\n",
       "      <td>-0.132811</td>\n",
       "      <td>0.679783</td>\n",
       "      <td>0.583773</td>\n",
       "      <td>1.104873</td>\n",
       "      <td>1.170518</td>\n",
       "      <td>-1.261688</td>\n",
       "    </tr>\n",
       "    <tr>\n",
       "      <th>2</th>\n",
       "      <td>0.198792</td>\n",
       "      <td>0.958203</td>\n",
       "      <td>-0.324902</td>\n",
       "      <td>-1.488579</td>\n",
       "      <td>0.866589</td>\n",
       "      <td>-1.771766</td>\n",
       "      <td>-0.569222</td>\n",
       "      <td>0.261642</td>\n",
       "      <td>1.327541</td>\n",
       "      <td>-1.347486</td>\n",
       "      <td>...</td>\n",
       "      <td>-0.967252</td>\n",
       "      <td>0.399819</td>\n",
       "      <td>0.560345</td>\n",
       "      <td>-0.174490</td>\n",
       "      <td>-0.132811</td>\n",
       "      <td>-0.795300</td>\n",
       "      <td>-1.712994</td>\n",
       "      <td>1.104873</td>\n",
       "      <td>-0.874477</td>\n",
       "      <td>0.749231</td>\n",
       "    </tr>\n",
       "    <tr>\n",
       "      <th>3</th>\n",
       "      <td>1.181843</td>\n",
       "      <td>0.958203</td>\n",
       "      <td>-0.977207</td>\n",
       "      <td>0.688223</td>\n",
       "      <td>-0.478515</td>\n",
       "      <td>1.133958</td>\n",
       "      <td>-0.569222</td>\n",
       "      <td>-1.173185</td>\n",
       "      <td>-0.816561</td>\n",
       "      <td>1.045139</td>\n",
       "      <td>...</td>\n",
       "      <td>-0.967252</td>\n",
       "      <td>-0.632911</td>\n",
       "      <td>0.560345</td>\n",
       "      <td>-1.180194</td>\n",
       "      <td>-1.003765</td>\n",
       "      <td>-0.057759</td>\n",
       "      <td>0.583773</td>\n",
       "      <td>-0.260039</td>\n",
       "      <td>-1.556142</td>\n",
       "      <td>-0.591382</td>\n",
       "    </tr>\n",
       "    <tr>\n",
       "      <th>4</th>\n",
       "      <td>0.198792</td>\n",
       "      <td>-1.043621</td>\n",
       "      <td>0.979706</td>\n",
       "      <td>0.688223</td>\n",
       "      <td>0.194037</td>\n",
       "      <td>0.407527</td>\n",
       "      <td>-1.247921</td>\n",
       "      <td>0.261642</td>\n",
       "      <td>-0.816561</td>\n",
       "      <td>0.566614</td>\n",
       "      <td>...</td>\n",
       "      <td>0.415570</td>\n",
       "      <td>-0.632911</td>\n",
       "      <td>-0.344327</td>\n",
       "      <td>0.831215</td>\n",
       "      <td>0.302665</td>\n",
       "      <td>1.417324</td>\n",
       "      <td>0.583773</td>\n",
       "      <td>-0.260039</td>\n",
       "      <td>0.488853</td>\n",
       "      <td>0.078924</td>\n",
       "    </tr>\n",
       "    <tr>\n",
       "      <th>5</th>\n",
       "      <td>-1.767309</td>\n",
       "      <td>0.958203</td>\n",
       "      <td>-0.977207</td>\n",
       "      <td>-0.037377</td>\n",
       "      <td>-1.151067</td>\n",
       "      <td>1.133958</td>\n",
       "      <td>-0.569222</td>\n",
       "      <td>-0.455771</td>\n",
       "      <td>1.327541</td>\n",
       "      <td>-0.868961</td>\n",
       "      <td>...</td>\n",
       "      <td>0.415570</td>\n",
       "      <td>1.432549</td>\n",
       "      <td>1.465017</td>\n",
       "      <td>-1.180194</td>\n",
       "      <td>-1.003765</td>\n",
       "      <td>-0.057759</td>\n",
       "      <td>0.583773</td>\n",
       "      <td>-1.624951</td>\n",
       "      <td>1.170518</td>\n",
       "      <td>0.749231</td>\n",
       "    </tr>\n",
       "  </tbody>\n",
       "</table>\n",
       "<p>5 rows × 77 columns</p>\n",
       "</div>"
      ],
      "text/plain": [
       "   ALTERSKATEGORIE_GROB  ANREDE_KZ  CJT_GESAMTTYP  FINANZ_MINIMALIST  \\\n",
       "1             -1.767309   0.958203       0.979706          -1.488579   \n",
       "2              0.198792   0.958203      -0.324902          -1.488579   \n",
       "3              1.181843   0.958203      -0.977207           0.688223   \n",
       "4              0.198792  -1.043621       0.979706           0.688223   \n",
       "5             -1.767309   0.958203      -0.977207          -0.037377   \n",
       "\n",
       "   FINANZ_SPARER  FINANZ_VORSORGER  FINANZ_ANLEGER  FINANZ_UNAUFFAELLIGER  \\\n",
       "1       1.539141         -1.045335        1.466874               0.979056   \n",
       "2       0.866589         -1.771766       -0.569222               0.261642   \n",
       "3      -0.478515          1.133958       -0.569222              -1.173185   \n",
       "4       0.194037          0.407527       -1.247921               0.261642   \n",
       "5      -1.151067          1.133958       -0.569222              -0.455771   \n",
       "\n",
       "   FINANZ_HAUSBAUER  FINANZTYP             ...              PLZ8_ANTG4  \\\n",
       "1          1.327541  -1.347486             ...                0.415570   \n",
       "2          1.327541  -1.347486             ...               -0.967252   \n",
       "3         -0.816561   1.045139             ...               -0.967252   \n",
       "4         -0.816561   0.566614             ...                0.415570   \n",
       "5          1.327541  -0.868961             ...                0.415570   \n",
       "\n",
       "   PLZ8_HHZ  PLZ8_GBZ    ARBEIT  ORTSGR_KLS9  RELAT_AB  \\\n",
       "1  1.432549  0.560345 -0.174490    -0.132811  0.679783   \n",
       "2  0.399819  0.560345 -0.174490    -0.132811 -0.795300   \n",
       "3 -0.632911  0.560345 -1.180194    -1.003765 -0.057759   \n",
       "4 -0.632911 -0.344327  0.831215     0.302665  1.417324   \n",
       "5  1.432549  1.465017 -1.180194    -1.003765 -0.057759   \n",
       "\n",
       "   PRAEGENDE_JUGENDJAHRE_MOVEMENT  PRAEGENDE_JUGENDJAHRE_AGE  \\\n",
       "1                        0.583773                   1.104873   \n",
       "2                       -1.712994                   1.104873   \n",
       "3                        0.583773                  -0.260039   \n",
       "4                        0.583773                  -0.260039   \n",
       "5                        0.583773                  -1.624951   \n",
       "\n",
       "   CAMEO_INTL_2015_WEALTH  CAMEO_INTL_2015_LIFE_STAGE  \n",
       "1                1.170518                   -1.261688  \n",
       "2               -0.874477                    0.749231  \n",
       "3               -1.556142                   -0.591382  \n",
       "4                0.488853                    0.078924  \n",
       "5                1.170518                    0.749231  \n",
       "\n",
       "[5 rows x 77 columns]"
      ]
     },
     "execution_count": 40,
     "metadata": {},
     "output_type": "execute_result"
    }
   ],
   "source": [
    "final_azdias.head()"
   ]
  },
  {
   "cell_type": "markdown",
   "metadata": {},
   "source": [
    "### Discussion 2.1: Apply Feature Scaling\n",
    "\n",
    "I decided to prepare df using imputer and then use StandardScaler as scaling function."
   ]
  },
  {
   "cell_type": "markdown",
   "metadata": {},
   "source": [
    "### Step 2.2: Perform Dimensionality Reduction\n",
    "\n",
    "On your scaled data, you are now ready to apply dimensionality reduction techniques.\n",
    "\n",
    "- Use sklearn's [PCA](http://scikit-learn.org/stable/modules/generated/sklearn.decomposition.PCA.html) class to apply principal component analysis on the data, thus finding the vectors of maximal variance in the data. To start, you should not set any parameters (so all components are computed) or set a number of components that is at least half the number of features (so there's enough features to see the general trend in variability).\n",
    "- Check out the ratio of variance explained by each principal component as well as the cumulative variance explained. Try plotting the cumulative or sequential values using matplotlib's [`plot()`](https://matplotlib.org/api/_as_gen/matplotlib.pyplot.plot.html) function. Based on what you find, select a value for the number of transformed features you'll retain for the clustering part of the project.\n",
    "- Once you've made a choice for the number of components to keep, make sure you re-fit a PCA instance to perform the decided-on transformation."
   ]
  },
  {
   "cell_type": "code",
   "execution_count": 41,
   "metadata": {},
   "outputs": [],
   "source": [
    "# Apply PCA to the data.\n",
    "from sklearn.decomposition import PCA\n",
    "pca = PCA()\n",
    "X_pca = pca.fit_transform(final_azdias)"
   ]
  },
  {
   "cell_type": "code",
   "execution_count": 42,
   "metadata": {},
   "outputs": [
    {
     "data": {
      "text/plain": [
       "(782046, 77)"
      ]
     },
     "execution_count": 42,
     "metadata": {},
     "output_type": "execute_result"
    }
   ],
   "source": [
    "X_pca.shape"
   ]
  },
  {
   "cell_type": "code",
   "execution_count": 43,
   "metadata": {},
   "outputs": [
    {
     "data": {
      "image/png": "[encoded data removed]",
      "text/plain": [
       "<matplotlib.figure.Figure at 0x7f4561b219e8>"
      ]
     },
     "metadata": {
      "needs_background": "light"
     },
     "output_type": "display_data"
    }
   ],
   "source": [
    "# Investigate the variance accounted for by each principal component.\n",
    "def scree_plot(pca):\n",
    "    '''\n",
    "    Creates a scree plot associated with the principal components \n",
    "    \n",
    "    INPUT: pca - the result of instantian of PCA in scikit learn\n",
    "            \n",
    "    OUTPUT:\n",
    "            None\n",
    "    '''\n",
    "    num_components=len(pca.explained_variance_ratio_)\n",
    "    ind = np.arange(num_components)\n",
    "    vals = pca.explained_variance_ratio_\n",
    " \n",
    "    plt.figure(figsize=(24, 6))\n",
    "    ax = plt.subplot(111)\n",
    "    cumvals = np.cumsum(vals)\n",
    "    ax.bar(ind, vals)\n",
    "    ax.plot(ind, cumvals)\n",
    "    for i in range(num_components):\n",
    "        ax.annotate(r\"%s%%\" % ((str(vals[i]*100)[:4])), (ind[i]+0.2, vals[i]), va=\"bottom\", ha=\"center\", fontsize=12)\n",
    " \n",
    "    ax.xaxis.set_tick_params(width=0)\n",
    "    ax.yaxis.set_tick_params(width=2, length=12)\n",
    " \n",
    "    ax.set_xlabel(\"Principal Component\")\n",
    "    ax.set_ylabel(\"Variance Explained (%)\")\n",
    "    plt.title('Explained Variance Per Principal Component')\n",
    "\n",
    "scree_plot(pca)"
   ]
  },
  {
   "cell_type": "code",
   "execution_count": 44,
   "metadata": {},
   "outputs": [],
   "source": [
    "# Re-apply PCA to the data while selecting for number of components to retain.\n",
    "pca = PCA(n_components=25)\n",
    "azdis_pca = pca.fit_transform(final_azdias)"
   ]
  },
  {
   "cell_type": "markdown",
   "metadata": {},
   "source": [
    "### Discussion 2.2: Perform Dimensionality Reduction\n",
    "\n",
    "How many principal components / transformed features are you retaining for the next step of the analysis?\n",
    "25 component will provide 80% of coverage."
   ]
  },
  {
   "cell_type": "markdown",
   "metadata": {},
   "source": [
    "### Step 2.3: Interpret Principal Components\n",
    "\n",
    "Now that we have our transformed principal components, it's a nice idea to check out the weight of each variable on the first few components to see if they can be interpreted in some fashion.\n",
    "\n",
    "As a reminder, each principal component is a unit vector that points in the direction of highest variance (after accounting for the variance captured by earlier principal components). The further a weight is from zero, the more the principal component is in the direction of the corresponding feature. If two features have large weights of the same sign (both positive or both negative), then increases in one tend expect to be associated with increases in the other. To contrast, features with different signs can be expected to show a negative correlation: increases in one variable should result in a decrease in the other.\n",
    "\n",
    "- To investigate the features, you should map each weight to their corresponding feature name, then sort the features according to weight. The most interesting features for each principal component, then, will be those at the beginning and end of the sorted list. Use the data dictionary document to help you understand these most prominent features, their relationships, and what a positive or negative value on the principal component might indicate.\n",
    "- You should investigate and interpret feature associations from the first three principal components in this substep. To help facilitate this, you should write a function that you can call at any time to print the sorted list of feature weights, for the *i*-th principal component. This might come in handy in the next step of the project, when you interpret the tendencies of the discovered clusters."
   ]
  },
  {
   "cell_type": "code",
   "execution_count": 45,
   "metadata": {},
   "outputs": [],
   "source": [
    "import operator\n",
    "\n",
    "def map_pca_to_features(pca, features):\n",
    "    mapping = {}\n",
    "    for i in range(0, len(pca)):\n",
    "        feature = features[i]\n",
    "        pcaN = pca[i]\n",
    "        mapping[feature] = pca[i]\n",
    "    return sorted(mapping.items(), key=operator.itemgetter(1))\n",
    "\n",
    "def print_mapping(mapping):\n",
    "    for key, value in mapping:\n",
    "        print('{}: {}'.format(str(key), str(value)))"
   ]
  },
  {
   "cell_type": "code",
   "execution_count": 46,
   "metadata": {},
   "outputs": [
    {
     "name": "stdout",
     "output_type": "stream",
     "text": [
      "CJT_GESAMTTYP: -3.04164160598\n",
      "ANREDE_KZ: -3.03301175269\n",
      "LP_FAMILIE_FEIN: -1.72227340584\n",
      "GFK_URLAUBERTYP: -1.34645223286\n",
      "SEMIO_FAM: -1.20760431157\n",
      "SEMIO_REL: -1.06411421519\n",
      "SEMIO_SOZ: -0.594009011823\n",
      "FINANZ_MINIMALIST: -0.258125261517\n",
      "FINANZ_SPARER: -0.0434360233743\n",
      "LP_STATUS_FEIN: 0.163179599516\n",
      "FINANZ_UNAUFFAELLIGER: 0.373264617413\n",
      "FINANZ_HAUSBAUER: 0.634503635445\n",
      "LP_FAMILIE_GROB: 0.69209123725\n",
      "GREEN_AVANTGARDE: 0.788393887899\n",
      "SEMIO_VERT: 0.870176621917\n",
      "SEMIO_MAT: 0.946327175208\n",
      "LP_STATUS_GROB: 1.05071627554\n",
      "SEMIO_LUST: 1.16726642489\n",
      "HEALTH_TYP: 1.31659896292\n",
      "FINANZTYP: 1.35972672033\n",
      "FINANZ_ANLEGER: 2.17396312581\n",
      "FINANZ_VORSORGER: 2.93250241207\n",
      "ALTERSKATEGORIE_GROB: 4.46758060331\n",
      "NATIONALITAET_KZ: 6.99980061281\n",
      "RETOURTYP_BK_S: 8.32447015747\n",
      "None\n"
     ]
    }
   ],
   "source": [
    "# Map weights for the first principal component to corresponding feature names\n",
    "# and then print the linked values, sorted by weight.\n",
    "# HINT: Try defining a function here or in a new cell that you can reuse in the\n",
    "# other cells.\n",
    "print(print_mapping(map_pca_to_features(azdis_pca[0], final_azdias.columns.tolist())))"
   ]
  },
  {
   "cell_type": "code",
   "execution_count": 47,
   "metadata": {},
   "outputs": [
    {
     "name": "stdout",
     "output_type": "stream",
     "text": [
      "CJT_GESAMTTYP: -3.44459036913\n",
      "FINANZ_SPARER: -2.6897880047\n",
      "FINANZ_HAUSBAUER: -1.98077501315\n",
      "NATIONALITAET_KZ: -1.45871085893\n",
      "SEMIO_MAT: -1.33153864215\n",
      "FINANZ_UNAUFFAELLIGER: -1.07796110322\n",
      "SEMIO_LUST: -0.960197640691\n",
      "GFK_URLAUBERTYP: -0.865718121047\n",
      "ALTERSKATEGORIE_GROB: -0.549917164391\n",
      "GREEN_AVANTGARDE: -0.284325119235\n",
      "LP_FAMILIE_FEIN: -0.185331370771\n",
      "FINANZ_ANLEGER: -0.0905465747817\n",
      "FINANZTYP: -0.0648539676454\n",
      "FINANZ_VORSORGER: 0.0935186313729\n",
      "ANREDE_KZ: 0.162489187774\n",
      "HEALTH_TYP: 0.285640702875\n",
      "SEMIO_VERT: 0.408597563733\n",
      "SEMIO_FAM: 0.434971812523\n",
      "SEMIO_REL: 0.505902821442\n",
      "SEMIO_SOZ: 0.836683332691\n",
      "LP_STATUS_GROB: 0.897368035697\n",
      "FINANZ_MINIMALIST: 0.920663117515\n",
      "LP_STATUS_FEIN: 0.974882720774\n",
      "RETOURTYP_BK_S: 1.01434697089\n",
      "LP_FAMILIE_GROB: 1.30494042154\n",
      "None\n"
     ]
    }
   ],
   "source": [
    "# Map weights for the second principal component to corresponding feature names\n",
    "# and then print the linked values, sorted by weight.\n",
    "\n",
    "print(print_mapping(map_pca_to_features(azdis_pca[1], final_azdias.columns.tolist())))"
   ]
  },
  {
   "cell_type": "code",
   "execution_count": 48,
   "metadata": {},
   "outputs": [
    {
     "name": "stdout",
     "output_type": "stream",
     "text": [
      "ALTERSKATEGORIE_GROB: -4.73114127374\n",
      "LP_STATUS_GROB: -1.67673542792\n",
      "LP_STATUS_FEIN: -1.36288810006\n",
      "HEALTH_TYP: -1.21002070718\n",
      "FINANZ_VORSORGER: -1.04057948967\n",
      "FINANZ_MINIMALIST: -0.980167614902\n",
      "CJT_GESAMTTYP: -0.640054414023\n",
      "FINANZ_SPARER: -0.437046882798\n",
      "GREEN_AVANTGARDE: -0.373423041362\n",
      "FINANZTYP: -0.229562249315\n",
      "RETOURTYP_BK_S: -0.122157302146\n",
      "SEMIO_REL: -0.0747082685773\n",
      "SEMIO_SOZ: 0.0409020551119\n",
      "LP_FAMILIE_GROB: 0.0710424974695\n",
      "SEMIO_LUST: 0.227710077859\n",
      "FINANZ_ANLEGER: 0.235886353654\n",
      "GFK_URLAUBERTYP: 0.311487927269\n",
      "SEMIO_FAM: 0.334896830547\n",
      "NATIONALITAET_KZ: 0.336836733487\n",
      "LP_FAMILIE_FEIN: 0.411088888785\n",
      "FINANZ_UNAUFFAELLIGER: 0.419245543043\n",
      "FINANZ_HAUSBAUER: 0.534280191811\n",
      "SEMIO_VERT: 0.543148426176\n",
      "SEMIO_MAT: 0.674687422469\n",
      "ANREDE_KZ: 1.70471503549\n",
      "None\n"
     ]
    }
   ],
   "source": [
    "# Map weights for the third principal component to corresponding feature names\n",
    "# and then print the linked values, sorted by weight.\n",
    "\n",
    "print(print_mapping(map_pca_to_features(azdis_pca[2], final_azdias.columns.tolist())))"
   ]
  },
  {
   "cell_type": "markdown",
   "metadata": {},
   "source": [
    "### Discussion 2.3: Interpret Principal Components\n",
    "\n",
    "#### 1st Principal Component\n",
    "**RETOURTYP_BK_S: 8.32447015747**\n",
    "Return type\n",
    "**NATIONALITAET_KZ: 6.99980061281**\n",
    "Nationality based on given name\n",
    "**ALTERSKATEGORIE_GROB: 4.46758060331**\n",
    "Estimated age based on given name analysis\n",
    "\n",
    "First component is correlated with personal treats and is based on age, nationality and return type.\n",
    "\n",
    "#### 2nd Principal Component\n",
    "**CJT_GESAMTTYP: -3.44459036913**\n",
    "Customer-Journey-Typology: preferred information and buying channels for\n",
    "consumer\n",
    "**FINANZ_SPARER: -2.6897880047**\n",
    "Financial typology\n",
    "**FINANZ_HAUSBAUER: -1.98077501315**\n",
    "Financial typology\n",
    "\n",
    "It seams that second component is related to where this customer comes from and how he/she spends money.\n",
    "#### 3rd Principal Component\n",
    "**ALTERSKATEGORIE_GROB: -4.73114127374**\n",
    "Estimated age based on given name analysis\n",
    "**ANREDE_KZ: 1.70471503549**\n",
    "Gender\n",
    "**LP_STATUS_GROB: -1.67673542792**\n",
    "Social status, rough scale\n",
    "\n",
    "Third component describes who is our customer: its age, social status and gender"
   ]
  },
  {
   "cell_type": "markdown",
   "metadata": {},
   "source": [
    "## Step 3: Clustering\n",
    "\n",
    "### Step 3.1: Apply Clustering to General Population\n",
    "\n",
    "You've assessed and cleaned the demographics data, then scaled and transformed them. Now, it's time to see how the data clusters in the principal components space. In this substep, you will apply k-means clustering to the dataset and use the average within-cluster distances from each point to their assigned cluster's centroid to decide on a number of clusters to keep.\n",
    "\n",
    "- Use sklearn's [KMeans](http://scikit-learn.org/stable/modules/generated/sklearn.cluster.KMeans.html#sklearn.cluster.KMeans) class to perform k-means clustering on the PCA-transformed data.\n",
    "- Then, compute the average difference from each point to its assigned cluster's center. **Hint**: The KMeans object's `.score()` method might be useful here, but note that in sklearn, scores tend to be defined so that larger is better. Try applying it to a small, toy dataset, or use an internet search to help your understanding.\n",
    "- Perform the above two steps for a number of different cluster counts. You can then see how the average distance decreases with an increasing number of clusters. However, each additional cluster provides a smaller net benefit. Use this fact to select a final number of clusters in which to group the data. **Warning**: because of the large size of the dataset, it can take a long time for the algorithm to resolve. The more clusters to fit, the longer the algorithm will take. You should test for cluster counts through at least 10 clusters to get the full picture, but you shouldn't need to test for a number of clusters above about 30.\n",
    "- Once you've selected a final number of clusters to use, re-fit a KMeans instance to perform the clustering operation. Make sure that you also obtain the cluster assignments for the general demographics data, since you'll be using them in the final Step 3.3."
   ]
  },
  {
   "cell_type": "code",
   "execution_count": 49,
   "metadata": {},
   "outputs": [
    {
     "name": "stdout",
     "output_type": "stream",
     "text": [
      "1 47717456.3921\n",
      "2 39538051.8074\n",
      "3 36079265.0312\n",
      "4 33885366.3925\n",
      "5 32483020.3714\n",
      "6 31214383.145\n",
      "7 30120905.4184\n",
      "8 29175515.8572\n",
      "9 28596328.7164\n",
      "10 27972215.1048\n",
      "11 27584148.0175\n"
     ]
    }
   ],
   "source": [
    "from sklearn.cluster import KMeans\n",
    "\n",
    "scores = []\n",
    "clusters_range = range(1,12)\n",
    "for k in clusters_range:\n",
    "    kmeanModel = KMeans(n_clusters=k)\n",
    "    model = kmeanModel.fit(azdis_pca)\n",
    "    score = np.abs(model.score(azdis_pca))\n",
    "    scores.append(score)\n",
    "    print(k, score)"
   ]
  },
  {
   "cell_type": "code",
   "execution_count": 50,
   "metadata": {},
   "outputs": [
    {
     "data": {
      "image/png": "[encoded data removed]",
      "text/plain": [
       "<matplotlib.figure.Figure at 0x7f45619e4780>"
      ]
     },
     "metadata": {
      "needs_background": "light"
     },
     "output_type": "display_data"
    }
   ],
   "source": [
    "# Investigate the change in within-cluster distance across number of clusters.\n",
    "# HINT: Use matplotlib's plot function to visualize this relationship.\n",
    "\n",
    "plt.figure(figsize=(16,8))\n",
    "plt.plot(clusters_range, scores, 'bx-')\n",
    "plt.xlabel('k')\n",
    "plt.ylabel('Distortion')\n",
    "plt.title('The Elbow Method showing the optimal k')\n",
    "plt.show()"
   ]
  },
  {
   "cell_type": "code",
   "execution_count": 51,
   "metadata": {},
   "outputs": [],
   "source": [
    "# Re-fit the k-means model with the selected number of clusters and obtain\n",
    "# cluster predictions for the general population demographics data.\n",
    "kmeans = KMeans(n_clusters=8)\n",
    "kmeans_clusters = kmeans.fit(azdis_pca)\n",
    "predictions = kmeans_clusters.predict(azdis_pca)\n"
   ]
  },
  {
   "cell_type": "markdown",
   "metadata": {},
   "source": [
    "### Discussion 3.1: Apply Clustering to General Population\n",
    "Into how many clusters have you decided to segment the population?\n",
    "I decided to break population into 8 clusters."
   ]
  },
  {
   "cell_type": "markdown",
   "metadata": {},
   "source": [
    "### Step 3.2: Apply All Steps to the Customer Data\n",
    "\n",
    "Now that you have clusters and cluster centers for the general population, it's time to see how the customer data maps on to those clusters. Take care to not confuse this for re-fitting all of the models to the customer data. Instead, you're going to use the fits from the general population to clean, transform, and cluster the customer data. In the last step of the project, you will interpret how the general population fits apply to the customer data.\n",
    "\n",
    "- Don't forget when loading in the customers data, that it is semicolon (`;`) delimited.\n",
    "- Apply the same feature wrangling, selection, and engineering steps to the customer demographics using the `clean_data()` function you created earlier. (You can assume that the customer demographics data has similar meaning behind missing data patterns as the general demographics data.)\n",
    "- Use the sklearn objects from the general demographics data, and apply their transformations to the customers data. That is, you should not be using a `.fit()` or `.fit_transform()` method to re-fit the old objects, nor should you be creating new sklearn objects! Carry the data through the feature scaling, PCA, and clustering steps, obtaining cluster assignments for all of the data in the customer demographics data."
   ]
  },
  {
   "cell_type": "code",
   "execution_count": 52,
   "metadata": {},
   "outputs": [],
   "source": [
    "# Load in the customer demographics data.\n",
    "customers = pd.read_csv('Udacity_CUSTOMERS_Subset.csv', delimiter=\";\")"
   ]
  },
  {
   "cell_type": "code",
   "execution_count": 53,
   "metadata": {},
   "outputs": [
    {
     "name": "stderr",
     "output_type": "stream",
     "text": [
      "/opt/conda/lib/python3.6/site-packages/ipykernel_launcher.py:83: SettingWithCopyWarning: \n",
      "A value is trying to be set on a copy of a slice from a DataFrame.\n",
      "Try using .loc[row_indexer,col_indexer] = value instead\n",
      "\n",
      "See the caveats in the documentation: http://pandas.pydata.org/pandas-docs/stable/indexing.html#indexing-view-versus-copy\n",
      "/opt/conda/lib/python3.6/site-packages/ipykernel_launcher.py:84: SettingWithCopyWarning: \n",
      "A value is trying to be set on a copy of a slice from a DataFrame.\n",
      "Try using .loc[row_indexer,col_indexer] = value instead\n",
      "\n",
      "See the caveats in the documentation: http://pandas.pydata.org/pandas-docs/stable/indexing.html#indexing-view-versus-copy\n",
      "/opt/conda/lib/python3.6/site-packages/ipykernel_launcher.py:85: SettingWithCopyWarning: \n",
      "A value is trying to be set on a copy of a slice from a DataFrame.\n",
      "Try using .loc[row_indexer,col_indexer] = value instead\n",
      "\n",
      "See the caveats in the documentation: http://pandas.pydata.org/pandas-docs/stable/indexing.html#indexing-view-versus-copy\n",
      "/opt/conda/lib/python3.6/site-packages/ipykernel_launcher.py:86: SettingWithCopyWarning: \n",
      "A value is trying to be set on a copy of a slice from a DataFrame.\n",
      "Try using .loc[row_indexer,col_indexer] = value instead\n",
      "\n",
      "See the caveats in the documentation: http://pandas.pydata.org/pandas-docs/stable/indexing.html#indexing-view-versus-copy\n",
      "/opt/conda/lib/python3.6/site-packages/ipykernel_launcher.py:87: SettingWithCopyWarning: \n",
      "A value is trying to be set on a copy of a slice from a DataFrame.\n",
      "Try using .loc[row_indexer,col_indexer] = value instead\n",
      "\n",
      "See the caveats in the documentation: http://pandas.pydata.org/pandas-docs/stable/indexing.html#indexing-view-versus-copy\n",
      "/opt/conda/lib/python3.6/site-packages/ipykernel_launcher.py:88: SettingWithCopyWarning: \n",
      "A value is trying to be set on a copy of a slice from a DataFrame.\n",
      "Try using .loc[row_indexer,col_indexer] = value instead\n",
      "\n",
      "See the caveats in the documentation: http://pandas.pydata.org/pandas-docs/stable/indexing.html#indexing-view-versus-copy\n"
     ]
    }
   ],
   "source": [
    "final_customers = clean_data(customers)"
   ]
  },
  {
   "cell_type": "code",
   "execution_count": 54,
   "metadata": {},
   "outputs": [
    {
     "data": {
      "text/html": [
       "<div>\n",
       "<style scoped>\n",
       "    .dataframe tbody tr th:only-of-type {\n",
       "        vertical-align: middle;\n",
       "    }\n",
       "\n",
       "    .dataframe tbody tr th {\n",
       "        vertical-align: top;\n",
       "    }\n",
       "\n",
       "    .dataframe thead th {\n",
       "        text-align: right;\n",
       "    }\n",
       "</style>\n",
       "<table border=\"1\" class=\"dataframe\">\n",
       "  <thead>\n",
       "    <tr style=\"text-align: right;\">\n",
       "      <th></th>\n",
       "      <th>ALTERSKATEGORIE_GROB</th>\n",
       "      <th>ANREDE_KZ</th>\n",
       "      <th>CJT_GESAMTTYP</th>\n",
       "      <th>FINANZ_MINIMALIST</th>\n",
       "      <th>FINANZ_SPARER</th>\n",
       "      <th>FINANZ_VORSORGER</th>\n",
       "      <th>FINANZ_ANLEGER</th>\n",
       "      <th>FINANZ_UNAUFFAELLIGER</th>\n",
       "      <th>FINANZ_HAUSBAUER</th>\n",
       "      <th>FINANZTYP</th>\n",
       "      <th>...</th>\n",
       "      <th>PLZ8_ANTG4</th>\n",
       "      <th>PLZ8_HHZ</th>\n",
       "      <th>PLZ8_GBZ</th>\n",
       "      <th>ARBEIT</th>\n",
       "      <th>ORTSGR_KLS9</th>\n",
       "      <th>RELAT_AB</th>\n",
       "      <th>PRAEGENDE_JUGENDJAHRE_MOVEMENT</th>\n",
       "      <th>PRAEGENDE_JUGENDJAHRE_AGE</th>\n",
       "      <th>CAMEO_INTL_2015_LIFE_STAGE</th>\n",
       "      <th>CAMEO_INTL_2015_WEALTH</th>\n",
       "    </tr>\n",
       "  </thead>\n",
       "  <tbody>\n",
       "    <tr>\n",
       "      <th>0</th>\n",
       "      <td>1.181843</td>\n",
       "      <td>-1.043621</td>\n",
       "      <td>0.979706</td>\n",
       "      <td>1.413824</td>\n",
       "      <td>-1.151067</td>\n",
       "      <td>1.133958</td>\n",
       "      <td>-1.247921</td>\n",
       "      <td>-0.455771</td>\n",
       "      <td>-0.816561</td>\n",
       "      <td>-0.868961</td>\n",
       "      <td>...</td>\n",
       "      <td>-0.967252</td>\n",
       "      <td>1.432549</td>\n",
       "      <td>1.465017</td>\n",
       "      <td>-2.185898</td>\n",
       "      <td>-1.439242</td>\n",
       "      <td>-1.532842</td>\n",
       "      <td>-1.712994</td>\n",
       "      <td>-1.624951</td>\n",
       "      <td>-0.192812</td>\n",
       "      <td>-1.261688</td>\n",
       "    </tr>\n",
       "    <tr>\n",
       "      <th>2</th>\n",
       "      <td>1.181843</td>\n",
       "      <td>0.958203</td>\n",
       "      <td>-0.977207</td>\n",
       "      <td>1.413824</td>\n",
       "      <td>-1.151067</td>\n",
       "      <td>1.133958</td>\n",
       "      <td>-1.247921</td>\n",
       "      <td>0.979056</td>\n",
       "      <td>0.612841</td>\n",
       "      <td>-0.868961</td>\n",
       "      <td>...</td>\n",
       "      <td>0.415570</td>\n",
       "      <td>-0.632911</td>\n",
       "      <td>-1.248998</td>\n",
       "      <td>-0.174490</td>\n",
       "      <td>-0.132811</td>\n",
       "      <td>-0.057759</td>\n",
       "      <td>-1.712994</td>\n",
       "      <td>-1.624951</td>\n",
       "      <td>0.488853</td>\n",
       "      <td>0.078924</td>\n",
       "    </tr>\n",
       "    <tr>\n",
       "      <th>3</th>\n",
       "      <td>1.181843</td>\n",
       "      <td>-1.043621</td>\n",
       "      <td>-0.977207</td>\n",
       "      <td>1.413824</td>\n",
       "      <td>-1.151067</td>\n",
       "      <td>1.133958</td>\n",
       "      <td>-0.569222</td>\n",
       "      <td>-1.173185</td>\n",
       "      <td>-0.816561</td>\n",
       "      <td>1.045139</td>\n",
       "      <td>...</td>\n",
       "      <td>-0.967252</td>\n",
       "      <td>-0.632911</td>\n",
       "      <td>0.560345</td>\n",
       "      <td>-2.185898</td>\n",
       "      <td>-1.003765</td>\n",
       "      <td>-1.532842</td>\n",
       "      <td>0.583773</td>\n",
       "      <td>-2.307407</td>\n",
       "      <td>0.488853</td>\n",
       "      <td>-0.591382</td>\n",
       "    </tr>\n",
       "    <tr>\n",
       "      <th>4</th>\n",
       "      <td>0.198792</td>\n",
       "      <td>-1.043621</td>\n",
       "      <td>1.632011</td>\n",
       "      <td>-0.037377</td>\n",
       "      <td>-1.151067</td>\n",
       "      <td>0.407527</td>\n",
       "      <td>0.788176</td>\n",
       "      <td>1.696469</td>\n",
       "      <td>-0.816561</td>\n",
       "      <td>-0.868961</td>\n",
       "      <td>...</td>\n",
       "      <td>0.415570</td>\n",
       "      <td>-0.632911</td>\n",
       "      <td>-0.344327</td>\n",
       "      <td>-0.174490</td>\n",
       "      <td>-0.132811</td>\n",
       "      <td>-1.532842</td>\n",
       "      <td>0.583773</td>\n",
       "      <td>-0.260039</td>\n",
       "      <td>-1.556142</td>\n",
       "      <td>0.749231</td>\n",
       "    </tr>\n",
       "    <tr>\n",
       "      <th>5</th>\n",
       "      <td>0.198792</td>\n",
       "      <td>-1.043621</td>\n",
       "      <td>0.327402</td>\n",
       "      <td>1.413824</td>\n",
       "      <td>-1.151067</td>\n",
       "      <td>1.133958</td>\n",
       "      <td>-1.247921</td>\n",
       "      <td>-0.455771</td>\n",
       "      <td>-0.101860</td>\n",
       "      <td>0.566614</td>\n",
       "      <td>...</td>\n",
       "      <td>0.415570</td>\n",
       "      <td>1.432549</td>\n",
       "      <td>1.465017</td>\n",
       "      <td>-0.174490</td>\n",
       "      <td>0.738142</td>\n",
       "      <td>1.417324</td>\n",
       "      <td>-1.712994</td>\n",
       "      <td>-1.624951</td>\n",
       "      <td>0.488853</td>\n",
       "      <td>0.078924</td>\n",
       "    </tr>\n",
       "  </tbody>\n",
       "</table>\n",
       "<p>5 rows × 77 columns</p>\n",
       "</div>"
      ],
      "text/plain": [
       "   ALTERSKATEGORIE_GROB  ANREDE_KZ  CJT_GESAMTTYP  FINANZ_MINIMALIST  \\\n",
       "0              1.181843  -1.043621       0.979706           1.413824   \n",
       "2              1.181843   0.958203      -0.977207           1.413824   \n",
       "3              1.181843  -1.043621      -0.977207           1.413824   \n",
       "4              0.198792  -1.043621       1.632011          -0.037377   \n",
       "5              0.198792  -1.043621       0.327402           1.413824   \n",
       "\n",
       "   FINANZ_SPARER  FINANZ_VORSORGER  FINANZ_ANLEGER  FINANZ_UNAUFFAELLIGER  \\\n",
       "0      -1.151067          1.133958       -1.247921              -0.455771   \n",
       "2      -1.151067          1.133958       -1.247921               0.979056   \n",
       "3      -1.151067          1.133958       -0.569222              -1.173185   \n",
       "4      -1.151067          0.407527        0.788176               1.696469   \n",
       "5      -1.151067          1.133958       -1.247921              -0.455771   \n",
       "\n",
       "   FINANZ_HAUSBAUER  FINANZTYP           ...            PLZ8_ANTG4  PLZ8_HHZ  \\\n",
       "0         -0.816561  -0.868961           ...             -0.967252  1.432549   \n",
       "2          0.612841  -0.868961           ...              0.415570 -0.632911   \n",
       "3         -0.816561   1.045139           ...             -0.967252 -0.632911   \n",
       "4         -0.816561  -0.868961           ...              0.415570 -0.632911   \n",
       "5         -0.101860   0.566614           ...              0.415570  1.432549   \n",
       "\n",
       "   PLZ8_GBZ    ARBEIT  ORTSGR_KLS9  RELAT_AB  PRAEGENDE_JUGENDJAHRE_MOVEMENT  \\\n",
       "0  1.465017 -2.185898    -1.439242 -1.532842                       -1.712994   \n",
       "2 -1.248998 -0.174490    -0.132811 -0.057759                       -1.712994   \n",
       "3  0.560345 -2.185898    -1.003765 -1.532842                        0.583773   \n",
       "4 -0.344327 -0.174490    -0.132811 -1.532842                        0.583773   \n",
       "5  1.465017 -0.174490     0.738142  1.417324                       -1.712994   \n",
       "\n",
       "   PRAEGENDE_JUGENDJAHRE_AGE  CAMEO_INTL_2015_LIFE_STAGE  \\\n",
       "0                  -1.624951                   -0.192812   \n",
       "2                  -1.624951                    0.488853   \n",
       "3                  -2.307407                    0.488853   \n",
       "4                  -0.260039                   -1.556142   \n",
       "5                  -1.624951                    0.488853   \n",
       "\n",
       "   CAMEO_INTL_2015_WEALTH  \n",
       "0               -1.261688  \n",
       "2                0.078924  \n",
       "3               -0.591382  \n",
       "4                0.749231  \n",
       "5                0.078924  \n",
       "\n",
       "[5 rows x 77 columns]"
      ]
     },
     "execution_count": 54,
     "metadata": {},
     "output_type": "execute_result"
    }
   ],
   "source": [
    "# Apply preprocessing, feature transformation, and clustering from the general\n",
    "# demographics onto the customer data, obtaining cluster predictions for the\n",
    "# customer demographics data.\n",
    "from sklearn.preprocessing import StandardScaler\n",
    "from sklearn.preprocessing import Imputer\n",
    "\n",
    "feat_w_nan = final_customers.columns[final_customers.isna().any()].tolist()\n",
    "for feature in feat_w_nan:\n",
    "    final_customers[feature] = imr.transform(final_customers[[feature]])\n",
    "# Apply feature scaling to the general population demographics data\n",
    "final_customers[final_customers.columns] = scaler.transform(final_customers)\n",
    "final_customers.head()"
   ]
  },
  {
   "cell_type": "code",
   "execution_count": 55,
   "metadata": {},
   "outputs": [],
   "source": [
    "customers_pca = pca.transform(final_customers)\n",
    "predictions_customers = kmeans_clusters.predict(customers_pca)"
   ]
  },
  {
   "cell_type": "markdown",
   "metadata": {},
   "source": [
    "### Step 3.3: Compare Customer Data to Demographics Data\n",
    "\n",
    "At this point, you have clustered data based on demographics of the general population of Germany, and seen how the customer data for a mail-order sales company maps onto those demographic clusters. In this final substep, you will compare the two cluster distributions to see where the strongest customer base for the company is.\n",
    "\n",
    "Consider the proportion of persons in each cluster for the general population, and the proportions for the customers. If we think the company's customer base to be universal, then the cluster assignment proportions should be fairly similar between the two. If there are only particular segments of the population that are interested in the company's products, then we should see a mismatch from one to the other. If there is a higher proportion of persons in a cluster for the customer data compared to the general population (e.g. 5% of persons are assigned to a cluster for the general population, but 15% of the customer data is closest to that cluster's centroid) then that suggests the people in that cluster to be a target audience for the company. On the other hand, the proportion of the data in a cluster being larger in the general population than the customer data (e.g. only 2% of customers closest to a population centroid that captures 6% of the data) suggests that group of persons to be outside of the target demographics.\n",
    "\n",
    "Take a look at the following points in this step:\n",
    "\n",
    "- Compute the proportion of data points in each cluster for the general population and the customer data. Visualizations will be useful here: both for the individual dataset proportions, but also to visualize the ratios in cluster representation between groups. Seaborn's [`countplot()`](https://seaborn.pydata.org/generated/seaborn.countplot.html) or [`barplot()`](https://seaborn.pydata.org/generated/seaborn.barplot.html) function could be handy.\n",
    "  - Recall the analysis you performed in step 1.1.3 of the project, where you separated out certain data points from the dataset if they had more than a specified threshold of missing values. If you found that this group was qualitatively different from the main bulk of the data, you should treat this as an additional data cluster in this analysis. Make sure that you account for the number of data points in this subset, for both the general population and customer datasets, when making your computations!\n",
    "- Which cluster or clusters are overrepresented in the customer dataset compared to the general population? Select at least one such cluster and infer what kind of people might be represented by that cluster. Use the principal component interpretations from step 2.3 or look at additional components to help you make this inference. Alternatively, you can use the `.inverse_transform()` method of the PCA and StandardScaler objects to transform centroids back to the original data space and interpret the retrieved values directly.\n",
    "- Perform a similar investigation for the underrepresented clusters. Which cluster or clusters are underrepresented in the customer dataset compared to the general population, and what kinds of people are typified by these clusters?"
   ]
  },
  {
   "cell_type": "code",
   "execution_count": 56,
   "metadata": {},
   "outputs": [],
   "source": [
    "# Compare the proportion of data in each cluster for the customer data to the\n",
    "# proportion of data in each cluster for the general population.\n",
    "azdias_clusters = []\n",
    "customers_clusters = []\n",
    "\n",
    "for i in range(0, 8):\n",
    "    azdias_clusters.append((predictions == i).sum()/len(predictions))\n",
    "    customers_clusters.append((predictions_customers == i).sum()/len(predictions_customers))"
   ]
  },
  {
   "cell_type": "code",
   "execution_count": 57,
   "metadata": {},
   "outputs": [
    {
     "data": {
      "image/png": "[encoded data removed]",
      "text/plain": [
       "<matplotlib.figure.Figure at 0x7f4561acda58>"
      ]
     },
     "metadata": {
      "needs_background": "light"
     },
     "output_type": "display_data"
    }
   ],
   "source": [
    "pos = list(range(0, 8)) \n",
    "width = 0.3 \n",
    "\n",
    "fig, ax = plt.subplots(figsize=(15,5))\n",
    "\n",
    "plt.bar(pos, azdias_clusters, width) \n",
    "plt.bar([p + width for p in pos], customers_clusters, width) \n",
    "\n",
    "ax.set_ylabel('Proportion of persons in each cluster')\n",
    "ax.set_xlabel('Clusters')\n",
    "\n",
    "ax.set_title('General population vs Customers')\n",
    "\n",
    "# Adding the legend and showing the plot\n",
    "plt.legend(['General population', 'Customers'], loc='upper left')\n",
    "plt.grid()\n",
    "plt.show()"
   ]
  },
  {
   "cell_type": "code",
   "execution_count": 58,
   "metadata": {},
   "outputs": [],
   "source": [
    "# What kinds of people are part of a cluster that is overrepresented in the\n",
    "# customer data compared to the general population?\n",
    "\n",
    "def plot_cluster_comparison(cluster_num):\n",
    "    \n",
    "    fig, ax = plt.subplots(6,2, figsize=(12,25))\n",
    "    \n",
    "    # Customers\n",
    "    pca_cluster = customers_pca[np.where(predictions_customers==cluster_num)]\n",
    "    customers_data = scaler.inverse_transform(pca.inverse_transform(pca_cluster))\n",
    "    features = pd.DataFrame(np.round(customers_data), columns = final_azdias.columns)\n",
    "    \n",
    "    sns.countplot(features['RETOURTYP_BK_S'], ax = ax[0,0])\n",
    "    sns.countplot(features['NATIONALITAET_KZ'], ax = ax[1,0])\n",
    "    sns.countplot(features['ALTERSKATEGORIE_GROB'], ax = ax[2,0])\n",
    "    sns.countplot(features['CJT_GESAMTTYP'], ax = ax[3,0])\n",
    "    sns.countplot(features['FINANZ_SPARER'], ax = ax[4,0])\n",
    "    sns.countplot(features['FINANZ_HAUSBAUER'], ax = ax[5,0])\n",
    "    \n",
    "    # General population\n",
    "    pca_cluster_gd = azdis_pca[np.where(predictions==cluster_num)]\n",
    "    gd_data = scaler.inverse_transform(pca.inverse_transform(pca_cluster_gd))\n",
    "    features = pd.DataFrame(np.round(gd_data), columns = final_azdias.columns)\n",
    "    \n",
    "    sns.countplot(features['RETOURTYP_BK_S'], ax = ax[0,1])\n",
    "    sns.countplot(features['NATIONALITAET_KZ'], ax = ax[1,1])\n",
    "    sns.countplot(features['ALTERSKATEGORIE_GROB'], ax = ax[2,1])\n",
    "    sns.countplot(features['CJT_GESAMTTYP'], ax = ax[3,1])\n",
    "    sns.countplot(features['FINANZ_SPARER'], ax = ax[4,1])\n",
    "    sns.countplot(features['FINANZ_HAUSBAUER'], ax = ax[5,1])\n",
    "    \n",
    "    plt.subplots_adjust(top=0.96)\n",
    "    fig.suptitle('Customer data vs General Population', fontsize=16)\n",
    "    plt.show();"
   ]
  },
  {
   "cell_type": "markdown",
   "metadata": {},
   "source": [
    "Overpresented:\n",
    "    RETOURTYP_BK_S: determined Minimal-Returner and conservative Low-Returner\n",
    "    NATIONALITAET_KZ: assimilated names\n",
    "    ALTERSKATEGORIE_GROB: 30 - 45 years old\n",
    "    CJT_GESAMTTYP: advertisinginterested Online-shopper\n",
    "    FINANZ_SPARER: low\n",
    "    FINANZ_HAUSBAUER: average"
   ]
  },
  {
   "cell_type": "code",
   "execution_count": 59,
   "metadata": {},
   "outputs": [
    {
     "data": {
      "image/png": "[encoded data removed]",
      "text/plain": [
       "<matplotlib.figure.Figure at 0x7f4561aa80f0>"
      ]
     },
     "metadata": {
      "needs_background": "light"
     },
     "output_type": "display_data"
    }
   ],
   "source": [
    "# What kinds of people are part of a cluster that is underrepresented in the\n",
    "# customer data compared to the general population?\n",
    "\n",
    "plot_cluster_comparison(3)"
   ]
  },
  {
   "cell_type": "markdown",
   "metadata": {},
   "source": [
    "Underpresented:\n",
    "    RETOURTYP_BK_S: influenceable Crazy-Shopper and demanding Heavy-Returner\n",
    "    NATIONALITAET_KZ: foreign-sounding\n",
    "    ALTERSKATEGORIE_GROB: < 30 years old\n",
    "    CJT_GESAMTTYP: Advertising- and Cross-Channel-Enthusiast\n",
    "    FINANZ_SPARER: very low\n",
    "    FINANZ_HAUSBAUER: very low"
   ]
  },
  {
   "cell_type": "code",
   "execution_count": 60,
   "metadata": {},
   "outputs": [
    {
     "data": {
      "image/png": "[encoded data removed]",
      "text/plain": [
       "<matplotlib.figure.Figure at 0x7f4561a6be80>"
      ]
     },
     "metadata": {
      "needs_background": "light"
     },
     "output_type": "display_data"
    }
   ],
   "source": [
    "plot_cluster_comparison(2)"
   ]
  },
  {
   "cell_type": "markdown",
   "metadata": {},
   "source": [
    "### Discussion 3.3: Compare Customer Data to Demographics Data\n",
    "\n",
    "(Double-click this cell and replace this text with your own text, reporting findings and conclusions from the clustering analysis. Can we describe segments of the population that are relatively popular with the mail-order company, or relatively unpopular with the company?)\n",
    "\n",
    "*We could say that our research proves that most of the features we are relatively popular with mail-company.*"
   ]
  },
  {
   "cell_type": "markdown",
   "metadata": {},
   "source": [
    "> Congratulations on making it this far in the project! Before you finish, make sure to check through the entire notebook from top to bottom to make sure that your analysis follows a logical flow and all of your findings are documented in **Discussion** cells. Once you've checked over all of your work, you should export the notebook as an HTML document to submit for evaluation. You can do this from the menu, navigating to **File -> Download as -> HTML (.html)**. You will submit both that document and this notebook for your project submission."
   ]
  },
  {
   "cell_type": "code",
   "execution_count": null,
   "metadata": {},
   "outputs": [],
   "source": []
  }
 ],
 "metadata": {
  "kernelspec": {
   "display_name": "Python 3",
   "language": "python",
   "name": "python3"
  },
  "language_info": {
   "codemirror_mode": {
    "name": "ipython",
    "version": 3
   },
   "file_extension": ".py",
   "mimetype": "text/x-python",
   "name": "python",
   "nbconvert_exporter": "python",
   "pygments_lexer": "ipython3",
   "version": "3.6.3"
  }
 },
 "nbformat": 4,
 "nbformat_minor": 2
}
